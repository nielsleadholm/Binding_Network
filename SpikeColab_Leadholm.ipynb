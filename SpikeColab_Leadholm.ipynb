{
  "nbformat": 4,
  "nbformat_minor": 0,
  "metadata": {
    "colab": {
      "name": "SpikeColab_Leadholm.ipynb",
      "version": "0.3.2",
      "provenance": [],
      "collapsed_sections": [],
      "toc_visible": true
    },
    "kernelspec": {
      "name": "python3",
      "display_name": "Python 3"
    },
    "accelerator": "GPU"
  },
  "cells": [
    {
      "metadata": {
        "id": "ZCwcgFwsCTrT",
        "colab_type": "text"
      },
      "cell_type": "markdown",
      "source": [
        "# Spike Sandbox"
      ]
    },
    {
      "metadata": {
        "id": "IafevlSI-yCo",
        "colab_type": "text"
      },
      "cell_type": "markdown",
      "source": [
        "The following Colaboratory notebook enables rapid proto-typing of C++ code for the Spike simulator. For an introduction to Spike, click [here](https://sites.google.com/view/spike-simulator/home)"
      ]
    },
    {
      "metadata": {
        "id": "_MF9k73OBRsa",
        "colab_type": "text"
      },
      "cell_type": "markdown",
      "source": [
        "To get started, you can simply run every cell up until the section entitled 'Sandbox'"
      ]
    },
    {
      "metadata": {
        "id": "O7rknd8lBZFp",
        "colab_type": "text"
      },
      "cell_type": "markdown",
      "source": [
        "After that, you will be able to edit, compile, and run C++ code for Spike simulations, using only the commands under Sandbox."
      ]
    },
    {
      "metadata": {
        "id": "-1CL09wUBsjo",
        "colab_type": "text"
      },
      "cell_type": "markdown",
      "source": [
        "Everytime you want to make a further change to the Sandbox.cpp source code, begin at the top of the Sandbox section."
      ]
    },
    {
      "metadata": {
        "id": "EXw7dq6bBuIC",
        "colab_type": "text"
      },
      "cell_type": "markdown",
      "source": [
        "If you run into an issue and want to start from a clean installation, select 'Restart runtime...' under the 'Runtime' option. Then, begin at the top of this notebook under 'Setting up environment'."
      ]
    },
    {
      "metadata": {
        "id": "gf65gEHRGFzI",
        "colab_type": "text"
      },
      "cell_type": "markdown",
      "source": [
        "*This Colaboratory notebook was created by members of the [Oxford Foundation for Theoretical Neuroscience and Artificial Intelligence](https://www.oftnai.org/). *"
      ]
    },
    {
      "metadata": {
        "id": "AasvU3fqLxux",
        "colab_type": "text"
      },
      "cell_type": "markdown",
      "source": [
        "#Setup"
      ]
    },
    {
      "metadata": {
        "id": "yoBmdr2EQJi1",
        "colab_type": "text"
      },
      "cell_type": "markdown",
      "source": [
        "## Setting up environment"
      ]
    },
    {
      "metadata": {
        "id": "-ZNN9eC-7l96",
        "colab_type": "text"
      },
      "cell_type": "markdown",
      "source": [
        "The following lines of code are useful if you want to do a clean re-installation of Spike and its dependencies. If you are running this Colab document for the first time, you can skip to the !git clone cell, but running these commands will not cause any issues."
      ]
    },
    {
      "metadata": {
        "id": "znPGglDunVfy",
        "colab_type": "code",
        "outputId": "7c1ee131-7d8a-4c34-a738-3bd5bc3d240d",
        "colab": {
          "base_uri": "https://localhost:8080/",
          "height": 34
        }
      },
      "cell_type": "code",
      "source": [
        "cd /content"
      ],
      "execution_count": 1,
      "outputs": [
        {
          "output_type": "stream",
          "text": [
            "/content\n"
          ],
          "name": "stdout"
        }
      ]
    },
    {
      "metadata": {
        "id": "2G9FdeignuG3",
        "colab_type": "code",
        "colab": {}
      },
      "cell_type": "code",
      "source": [
        "#rm -rf PolyNetwork_CppTools #Run if Spike folder is present"
      ],
      "execution_count": 0,
      "outputs": []
    },
    {
      "metadata": {
        "id": "4NfOr0vxsYcV",
        "colab_type": "code",
        "outputId": "3110a892-9acd-413c-ddff-72506eea957f",
        "colab": {
          "base_uri": "https://localhost:8080/",
          "height": 34
        }
      },
      "cell_type": "code",
      "source": [
        "ls"
      ],
      "execution_count": 3,
      "outputs": [
        {
          "output_type": "stream",
          "text": [
            "\u001b[0m\u001b[01;34msample_data\u001b[0m/\n"
          ],
          "name": "stdout"
        }
      ]
    },
    {
      "metadata": {
        "id": "KccdK9rHNcs4",
        "colab_type": "code",
        "outputId": "22ca42e3-5f8e-43e2-c561-4b3d854c59b7",
        "colab": {
          "base_uri": "https://localhost:8080/",
          "height": 874
        }
      },
      "cell_type": "code",
      "source": [
        "!git clone --recursive https://github.com/nielsleadholm/PolyNetwork_CppTools #Note '!' is necessary in Colab to run shell commands\n",
        "!apt update #apt = 'Advanced Package Tool'; checks the versions of various files and update as necessary\n",
        "!apt install cmake"
      ],
      "execution_count": 4,
      "outputs": [
        {
          "output_type": "stream",
          "text": [
            "Cloning into 'PolyNetwork_CppTools'...\n",
            "remote: Enumerating objects: 31, done.\u001b[K\n",
            "remote: Counting objects: 100% (31/31), done.\u001b[K\n",
            "remote: Compressing objects: 100% (22/22), done.\u001b[K\n",
            "remote: Total 31 (delta 8), reused 29 (delta 6), pack-reused 0\u001b[K\n",
            "Unpacking objects: 100% (31/31), done.\n",
            "Submodule 'Spike' (https://github.com/nasiryahm/Spike) registered for path 'Spike'\n",
            "Cloning into '/content/PolyNetwork_CppTools/Spike'...\n",
            "remote: Enumerating objects: 198, done.        \n",
            "remote: Counting objects: 100% (198/198), done.        \n",
            "remote: Compressing objects: 100% (105/105), done.        \n",
            "remote: Total 12478 (delta 128), reused 145 (delta 93), pack-reused 12280        \n",
            "Receiving objects: 100% (12478/12478), 44.50 MiB | 22.70 MiB/s, done.\n",
            "Resolving deltas: 100% (9636/9636), done.\n",
            "Submodule path 'Spike': checked out 'b35e8726a3a4a3314a0e4abba10729ec638327b1'\n",
            "Get:1 http://ppa.launchpad.net/graphics-drivers/ppa/ubuntu bionic InRelease [21.3 kB]\n",
            "Hit:2 http://archive.ubuntu.com/ubuntu bionic InRelease\n",
            "Get:3 http://archive.ubuntu.com/ubuntu bionic-updates InRelease [88.7 kB]\n",
            "Get:4 http://security.ubuntu.com/ubuntu bionic-security InRelease [88.7 kB]\n",
            "Get:5 http://ppa.launchpad.net/marutter/c2d4u3.5/ubuntu bionic InRelease [15.4 kB]\n",
            "Get:6 https://cloud.r-project.org/bin/linux/ubuntu bionic-cran35/ InRelease [3,609 B]\n",
            "Get:7 http://archive.ubuntu.com/ubuntu bionic-backports InRelease [74.6 kB]\n",
            "Get:8 http://ppa.launchpad.net/graphics-drivers/ppa/ubuntu bionic/main amd64 Packages [33.4 kB]\n",
            "Get:9 http://ppa.launchpad.net/marutter/c2d4u3.5/ubuntu bionic/main Sources [1,639 kB]\n",
            "Ign:10 https://developer.download.nvidia.com/compute/cuda/repos/ubuntu1804/x86_64  InRelease\n",
            "Get:11 https://cloud.r-project.org/bin/linux/ubuntu bionic-cran35/ Packages [60.4 kB]\n",
            "Ign:12 https://developer.download.nvidia.com/compute/machine-learning/repos/ubuntu1804/x86_64  InRelease\n",
            "Hit:13 https://developer.download.nvidia.com/compute/cuda/repos/ubuntu1804/x86_64  Release\n",
            "Get:14 https://developer.download.nvidia.com/compute/machine-learning/repos/ubuntu1804/x86_64  Release [564 B]\n",
            "Get:15 https://developer.download.nvidia.com/compute/machine-learning/repos/ubuntu1804/x86_64  Release.gpg [801 B]\n",
            "Get:16 http://archive.ubuntu.com/ubuntu bionic-updates/universe amd64 Packages [1,107 kB]\n",
            "Get:17 http://archive.ubuntu.com/ubuntu bionic-updates/multiverse amd64 Packages [7,238 B]\n",
            "Get:18 http://archive.ubuntu.com/ubuntu bionic-updates/main amd64 Packages [774 kB]\n",
            "Get:19 http://security.ubuntu.com/ubuntu bionic-security/universe amd64 Packages [304 kB]\n",
            "Get:20 http://security.ubuntu.com/ubuntu bionic-security/main amd64 Packages [416 kB]\n",
            "Get:21 http://security.ubuntu.com/ubuntu bionic-security/multiverse amd64 Packages [4,171 B]\n",
            "Get:22 http://ppa.launchpad.net/marutter/c2d4u3.5/ubuntu bionic/main amd64 Packages [788 kB]\n",
            "Get:24 https://developer.download.nvidia.com/compute/machine-learning/repos/ubuntu1804/x86_64  Packages [7,590 B]\n",
            "Fetched 5,433 kB in 2s (2,660 kB/s)\n",
            "Reading package lists... Done\n",
            "Building dependency tree       \n",
            "Reading state information... Done\n",
            "46 packages can be upgraded. Run 'apt list --upgradable' to see them.\n",
            "Reading package lists... Done\n",
            "Building dependency tree       \n",
            "Reading state information... Done\n",
            "cmake is already the newest version (3.10.2-1ubuntu2).\n",
            "The following package was automatically installed and is no longer required:\n",
            "  libnvidia-common-410\n",
            "Use 'apt autoremove' to remove it.\n",
            "0 upgraded, 0 newly installed, 0 to remove and 46 not upgraded.\n"
          ],
          "name": "stdout"
        }
      ]
    },
    {
      "metadata": {
        "id": "tObp2St9wg3u",
        "colab_type": "code",
        "outputId": "4bcf1989-d422-4baa-c6b1-68c0fd04f9c7",
        "colab": {
          "base_uri": "https://localhost:8080/",
          "height": 134
        }
      },
      "cell_type": "code",
      "source": [
        "!apt --fix-broken install #Run if an error message is returned following !apt update"
      ],
      "execution_count": 5,
      "outputs": [
        {
          "output_type": "stream",
          "text": [
            "Reading package lists... Done\n",
            "Building dependency tree       \n",
            "Reading state information... Done\n",
            "The following package was automatically installed and is no longer required:\n",
            "  libnvidia-common-410\n",
            "Use 'apt autoremove' to remove it.\n",
            "0 upgraded, 0 newly installed, 0 to remove and 46 not upgraded.\n"
          ],
          "name": "stdout"
        }
      ]
    },
    {
      "metadata": {
        "id": "aSSdEqAW4lzp",
        "colab_type": "code",
        "outputId": "7564df2d-9cab-4122-f636-9179a5623bb4",
        "colab": {
          "base_uri": "https://localhost:8080/",
          "height": 34
        }
      },
      "cell_type": "code",
      "source": [
        "cd /content/PolyNetwork_CppTools"
      ],
      "execution_count": 6,
      "outputs": [
        {
          "output_type": "stream",
          "text": [
            "/content/PolyNetwork_CppTools\n"
          ],
          "name": "stdout"
        }
      ]
    },
    {
      "metadata": {
        "id": "SPp_ORidgn_r",
        "colab_type": "code",
        "outputId": "d84d680a-487b-4925-e15d-82c029791936",
        "colab": {
          "base_uri": "https://localhost:8080/",
          "height": 67
        }
      },
      "cell_type": "code",
      "source": [
        "!git pull \n",
        "!git checkout master "
      ],
      "execution_count": 7,
      "outputs": [
        {
          "output_type": "stream",
          "text": [
            "Already up to date.\n",
            "Already on 'master'\n",
            "Your branch is up to date with 'origin/master'.\n"
          ],
          "name": "stdout"
        }
      ]
    },
    {
      "metadata": {
        "id": "cu4U-kiBSz8-",
        "colab_type": "code",
        "outputId": "543a537b-da4a-4932-c94d-aacd16a1ca30",
        "colab": {
          "base_uri": "https://localhost:8080/",
          "height": 10268
        }
      },
      "cell_type": "code",
      "source": [
        "!wget https://developer.nvidia.com/compute/cuda/8.0/Prod2/local_installers/cuda-repo-ubuntu1604-8-0-local-ga2_8.0.61-1_amd64-deb; #wget downloads a file stored at a url\n",
        "!dpkg -i cuda-repo-ubuntu1604-8-0-local-ga2_8.0.61-1_amd64-deb;\n",
        "!apt-key add /var/cuda-repo-8-0-local-ga2/7fa2af80.pub;\n",
        "!apt-get update;\n",
        "!apt-get install cuda gcc-5 g++-5 -y;\n",
        "!apt install cuda-8.0;"
      ],
      "execution_count": 8,
      "outputs": [
        {
          "output_type": "stream",
          "text": [
            "--2019-04-25 14:45:55--  https://developer.nvidia.com/compute/cuda/8.0/Prod2/local_installers/cuda-repo-ubuntu1604-8-0-local-ga2_8.0.61-1_amd64-deb\n",
            "Resolving developer.nvidia.com (developer.nvidia.com)... 192.229.182.215\n",
            "Connecting to developer.nvidia.com (developer.nvidia.com)|192.229.182.215|:443... connected.\n",
            "HTTP request sent, awaiting response... 302 Found\n",
            "Location: https://developer.download.nvidia.com/compute/cuda/8.0/secure/Prod2/local_installers/cuda-repo-ubuntu1604-8-0-local-ga2_8.0.61-1_amd64.deb?XpbTL3n5Tk071tgxxP7_9zJ2f0_MIIs-n0xOmfZIYzSKWxZ29DK5xtAnEoX9GWc_UJTNHk5DL6mgfG1gVHMe3aUN-q1YqKvFfvOzq28YvGCkeuStiHSl3k621dStGdpVL5daQZByg1QrY_N7UInTe2fnok1NyVfMTzuDnucaWhky7OlW5n8lH_OwPoTaWtd0qmuE90HJQ4MR_j_s0N4NnEOeEw [following]\n",
            "--2019-04-25 14:45:55--  https://developer.download.nvidia.com/compute/cuda/8.0/secure/Prod2/local_installers/cuda-repo-ubuntu1604-8-0-local-ga2_8.0.61-1_amd64.deb?XpbTL3n5Tk071tgxxP7_9zJ2f0_MIIs-n0xOmfZIYzSKWxZ29DK5xtAnEoX9GWc_UJTNHk5DL6mgfG1gVHMe3aUN-q1YqKvFfvOzq28YvGCkeuStiHSl3k621dStGdpVL5daQZByg1QrY_N7UInTe2fnok1NyVfMTzuDnucaWhky7OlW5n8lH_OwPoTaWtd0qmuE90HJQ4MR_j_s0N4NnEOeEw\n",
            "Resolving developer.download.nvidia.com (developer.download.nvidia.com)... 192.229.221.58, 2606:2800:233:ef6:15dd:1ece:1d50:1e1\n",
            "Connecting to developer.download.nvidia.com (developer.download.nvidia.com)|192.229.221.58|:443... connected.\n",
            "HTTP request sent, awaiting response... 200 OK\n",
            "Length: 1913589814 (1.8G) [application/x-deb]\n",
            "Saving to: ‘cuda-repo-ubuntu1604-8-0-local-ga2_8.0.61-1_amd64-deb’\n",
            "\n",
            "cuda-repo-ubuntu160 100%[===================>]   1.78G   149MB/s    in 12s     \n",
            "\n",
            "2019-04-25 14:46:08 (148 MB/s) - ‘cuda-repo-ubuntu1604-8-0-local-ga2_8.0.61-1_amd64-deb’ saved [1913589814/1913589814]\n",
            "\n",
            "Selecting previously unselected package cuda-repo-ubuntu1604-8-0-local-ga2.\n",
            "(Reading database ... 131304 files and directories currently installed.)\n",
            "Preparing to unpack cuda-repo-ubuntu1604-8-0-local-ga2_8.0.61-1_amd64-deb ...\n",
            "Unpacking cuda-repo-ubuntu1604-8-0-local-ga2 (8.0.61-1) ...\n",
            "Setting up cuda-repo-ubuntu1604-8-0-local-ga2 (8.0.61-1) ...\n",
            "Warning: The postinst maintainerscript of the package cuda-repo-ubuntu1604-8-0-local-ga2\n",
            "Warning: seems to use apt-key (provided by apt) without depending on gnupg or gnupg2.\n",
            "Warning: This will BREAK in the future and should be fixed by the package maintainer(s).\n",
            "Note: Check first if apt-key functionality is needed at all - it probably isn't!\n",
            "Warning: apt-key should not be used in scripts (called from postinst maintainerscript of the package cuda-repo-ubuntu1604-8-0-local-ga2)\n",
            "OK\n",
            "OK\n",
            "Get:1 file:/var/cuda-repo-8-0-local-ga2  InRelease\n",
            "Ign:1 file:/var/cuda-repo-8-0-local-ga2  InRelease\n",
            "Get:2 file:/var/cuda-repo-8-0-local-ga2  Release [574 B]\n",
            "Hit:3 http://archive.ubuntu.com/ubuntu bionic InRelease\n",
            "Hit:4 http://security.ubuntu.com/ubuntu bionic-security InRelease\n",
            "Get:2 file:/var/cuda-repo-8-0-local-ga2  Release [574 B]\n",
            "Hit:5 http://archive.ubuntu.com/ubuntu bionic-updates InRelease\n",
            "Get:6 file:/var/cuda-repo-8-0-local-ga2  Release.gpg [819 B]\n",
            "Hit:7 http://ppa.launchpad.net/graphics-drivers/ppa/ubuntu bionic InRelease\n",
            "Get:6 file:/var/cuda-repo-8-0-local-ga2  Release.gpg [819 B]\n",
            "Hit:8 http://archive.ubuntu.com/ubuntu bionic-backports InRelease\n",
            "Hit:9 https://cloud.r-project.org/bin/linux/ubuntu bionic-cran35/ InRelease\n",
            "Hit:10 http://ppa.launchpad.net/marutter/c2d4u3.5/ubuntu bionic InRelease\n",
            "Ign:11 https://developer.download.nvidia.com/compute/cuda/repos/ubuntu1804/x86_64  InRelease\n",
            "Ign:12 https://developer.download.nvidia.com/compute/machine-learning/repos/ubuntu1804/x86_64  InRelease\n",
            "Hit:13 https://developer.download.nvidia.com/compute/cuda/repos/ubuntu1804/x86_64  Release\n",
            "Hit:14 https://developer.download.nvidia.com/compute/machine-learning/repos/ubuntu1804/x86_64  Release\n",
            "Get:15 file:/var/cuda-repo-8-0-local-ga2  Packages [22.7 kB]\n",
            "Reading package lists... Done\n",
            "Reading package lists... Done\n",
            "Building dependency tree       \n",
            "Reading state information... Done\n",
            "The following package was automatically installed and is no longer required:\n",
            "  libnvidia-common-410\n",
            "Use 'apt autoremove' to remove it.\n",
            "The following additional packages will be installed:\n",
            "  cpp-5 cuda-10-1 cuda-command-line-tools-10-1 cuda-compiler-10-1\n",
            "  cuda-cudart-10-1 cuda-cudart-dev-10-1 cuda-cufft-10-1 cuda-cufft-dev-10-1\n",
            "  cuda-cuobjdump-10-1 cuda-cupti-10-1 cuda-curand-10-1 cuda-curand-dev-10-1\n",
            "  cuda-cusolver-10-1 cuda-cusolver-dev-10-1 cuda-cusparse-10-1\n",
            "  cuda-cusparse-dev-10-1 cuda-demo-suite-10-1 cuda-documentation-10-1\n",
            "  cuda-driver-dev-10-1 cuda-gdb-10-1 cuda-gpu-library-advisor-10-1\n",
            "  cuda-libraries-10-1 cuda-libraries-dev-10-1 cuda-license-10-1\n",
            "  cuda-memcheck-10-1 cuda-misc-headers-10-1 cuda-npp-10-1 cuda-npp-dev-10-1\n",
            "  cuda-nsight-10-1 cuda-nsight-compute-10-1 cuda-nsight-systems-10-1\n",
            "  cuda-nvcc-10-1 cuda-nvdisasm-10-1 cuda-nvgraph-10-1 cuda-nvgraph-dev-10-1\n",
            "  cuda-nvjpeg-10-1 cuda-nvjpeg-dev-10-1 cuda-nvml-dev-10-1 cuda-nvprof-10-1\n",
            "  cuda-nvprune-10-1 cuda-nvrtc-10-1 cuda-nvrtc-dev-10-1 cuda-nvtx-10-1\n",
            "  cuda-nvvp-10-1 cuda-runtime-10-1 cuda-samples-10-1 cuda-sanitizer-api-10-1\n",
            "  cuda-toolkit-10-1 cuda-tools-10-1 cuda-visual-tools-10-1 gcc-5-base libasan2\n",
            "  libcublas-dev libcublas10 libgcc-5-dev libisl15 libmpx0 libstdc++-5-dev\n",
            "Suggested packages:\n",
            "  gcc-5-locales g++-5-multilib gcc-5-doc libstdc++6-5-dbg gcc-5-multilib\n",
            "  libgcc1-dbg libgomp1-dbg libitm1-dbg libatomic1-dbg libasan2-dbg\n",
            "  liblsan0-dbg libtsan0-dbg libubsan0-dbg libcilkrts5-dbg libmpx0-dbg\n",
            "  libquadmath0-dbg libstdc++-5-doc\n",
            "The following NEW packages will be installed:\n",
            "  cpp-5 cuda cuda-10-1 cuda-command-line-tools-10-1 cuda-compiler-10-1\n",
            "  cuda-cudart-10-1 cuda-cudart-dev-10-1 cuda-cufft-10-1 cuda-cufft-dev-10-1\n",
            "  cuda-cuobjdump-10-1 cuda-cupti-10-1 cuda-curand-10-1 cuda-curand-dev-10-1\n",
            "  cuda-cusolver-10-1 cuda-cusolver-dev-10-1 cuda-cusparse-10-1\n",
            "  cuda-cusparse-dev-10-1 cuda-demo-suite-10-1 cuda-documentation-10-1\n",
            "  cuda-driver-dev-10-1 cuda-gdb-10-1 cuda-gpu-library-advisor-10-1\n",
            "  cuda-libraries-10-1 cuda-libraries-dev-10-1 cuda-license-10-1\n",
            "  cuda-memcheck-10-1 cuda-misc-headers-10-1 cuda-npp-10-1 cuda-npp-dev-10-1\n",
            "  cuda-nsight-10-1 cuda-nsight-compute-10-1 cuda-nsight-systems-10-1\n",
            "  cuda-nvcc-10-1 cuda-nvdisasm-10-1 cuda-nvgraph-10-1 cuda-nvgraph-dev-10-1\n",
            "  cuda-nvjpeg-10-1 cuda-nvjpeg-dev-10-1 cuda-nvml-dev-10-1 cuda-nvprof-10-1\n",
            "  cuda-nvprune-10-1 cuda-nvrtc-10-1 cuda-nvrtc-dev-10-1 cuda-nvtx-10-1\n",
            "  cuda-nvvp-10-1 cuda-runtime-10-1 cuda-samples-10-1 cuda-sanitizer-api-10-1\n",
            "  cuda-toolkit-10-1 cuda-tools-10-1 cuda-visual-tools-10-1 g++-5 gcc-5\n",
            "  gcc-5-base libasan2 libcublas-dev libcublas10 libgcc-5-dev libisl15 libmpx0\n",
            "  libstdc++-5-dev\n",
            "0 upgraded, 61 newly installed, 0 to remove and 46 not upgraded.\n",
            "Need to get 1,561 MB of archives.\n",
            "After this operation, 3,962 MB of additional disk space will be used.\n",
            "Get:1 http://archive.ubuntu.com/ubuntu bionic/universe amd64 gcc-5-base amd64 5.5.0-12ubuntu1 [17.1 kB]\n",
            "Get:2 https://developer.download.nvidia.com/compute/cuda/repos/ubuntu1804/x86_64  cuda-license-10-1 10.1.105-1 [16.3 kB]\n",
            "Get:3 http://archive.ubuntu.com/ubuntu bionic/universe amd64 libisl15 amd64 0.18-4 [548 kB]\n",
            "Get:4 https://developer.download.nvidia.com/compute/cuda/repos/ubuntu1804/x86_64  cuda-misc-headers-10-1 10.1.105-1 [692 kB]\n",
            "Get:5 https://developer.download.nvidia.com/compute/cuda/repos/ubuntu1804/x86_64  cuda-nvcc-10-1 10.1.105-1 [18.3 MB]\n",
            "Get:6 http://archive.ubuntu.com/ubuntu bionic/universe amd64 cpp-5 amd64 5.5.0-12ubuntu1 [7,785 kB]\n",
            "Get:7 http://archive.ubuntu.com/ubuntu bionic/universe amd64 libasan2 amd64 5.5.0-12ubuntu1 [264 kB]\n",
            "Get:8 http://archive.ubuntu.com/ubuntu bionic/universe amd64 libmpx0 amd64 5.5.0-12ubuntu1 [9,888 B]\n",
            "Get:9 http://archive.ubuntu.com/ubuntu bionic/universe amd64 libgcc-5-dev amd64 5.5.0-12ubuntu1 [2,224 kB]\n",
            "Get:10 http://archive.ubuntu.com/ubuntu bionic/universe amd64 gcc-5 amd64 5.5.0-12ubuntu1 [8,357 kB]\n",
            "Get:11 http://archive.ubuntu.com/ubuntu bionic/universe amd64 libstdc++-5-dev amd64 5.5.0-12ubuntu1 [1,415 kB]\n",
            "Get:12 http://archive.ubuntu.com/ubuntu bionic/universe amd64 g++-5 amd64 5.5.0-12ubuntu1 [8,450 kB]\n",
            "Get:13 https://developer.download.nvidia.com/compute/cuda/repos/ubuntu1804/x86_64  cuda-cuobjdump-10-1 10.1.105-1 [81.5 kB]\n",
            "Get:14 https://developer.download.nvidia.com/compute/cuda/repos/ubuntu1804/x86_64  cuda-nvprune-10-1 10.1.105-1 [36.9 kB]\n",
            "Get:15 https://developer.download.nvidia.com/compute/cuda/repos/ubuntu1804/x86_64  cuda-compiler-10-1 10.1.105-1 [2,538 B]\n",
            "Get:16 https://developer.download.nvidia.com/compute/cuda/repos/ubuntu1804/x86_64  cuda-nvdisasm-10-1 10.1.105-1 [22.1 MB]\n",
            "Get:17 https://developer.download.nvidia.com/compute/cuda/repos/ubuntu1804/x86_64  cuda-gdb-10-1 10.1.105-1 [2,768 kB]\n",
            "Get:18 https://developer.download.nvidia.com/compute/cuda/repos/ubuntu1804/x86_64  cuda-nvprof-10-1 10.1.105-1 [5,061 kB]\n",
            "Get:19 https://developer.download.nvidia.com/compute/cuda/repos/ubuntu1804/x86_64  cuda-sanitizer-api-10-1 10.1.105-1 [514 kB]\n",
            "Get:20 https://developer.download.nvidia.com/compute/cuda/repos/ubuntu1804/x86_64  cuda-memcheck-10-1 10.1.105-1 [139 kB]\n",
            "Get:21 https://developer.download.nvidia.com/compute/cuda/repos/ubuntu1804/x86_64  cuda-cudart-10-1 10.1.105-1 [110 kB]\n",
            "Get:22 https://developer.download.nvidia.com/compute/cuda/repos/ubuntu1804/x86_64  cuda-driver-dev-10-1 10.1.105-1 [12.1 kB]\n",
            "Get:23 https://developer.download.nvidia.com/compute/cuda/repos/ubuntu1804/x86_64  cuda-cudart-dev-10-1 10.1.105-1 [447 kB]\n",
            "Get:24 https://developer.download.nvidia.com/compute/cuda/repos/ubuntu1804/x86_64  cuda-cupti-10-1 10.1.105-1 [10.4 MB]\n",
            "Get:25 https://developer.download.nvidia.com/compute/cuda/repos/ubuntu1804/x86_64  cuda-gpu-library-advisor-10-1 10.1.105-1 [1,003 kB]\n",
            "Get:26 https://developer.download.nvidia.com/compute/cuda/repos/ubuntu1804/x86_64  cuda-nvtx-10-1 10.1.105-1 [38.8 kB]\n",
            "Get:27 https://developer.download.nvidia.com/compute/cuda/repos/ubuntu1804/x86_64  cuda-command-line-tools-10-1 10.1.105-1 [26.9 kB]\n",
            "Get:28 https://developer.download.nvidia.com/compute/cuda/repos/ubuntu1804/x86_64  cuda-nsight-10-1 10.1.105-1 [2,590 B]\n",
            "Get:29 https://developer.download.nvidia.com/compute/cuda/repos/ubuntu1804/x86_64  cuda-nvvp-10-1 10.1.105-1 [2,538 B]\n",
            "Get:30 https://developer.download.nvidia.com/compute/cuda/repos/ubuntu1804/x86_64  cuda-nvrtc-10-1 10.1.105-1 [6,283 kB]\n",
            "Get:31 https://developer.download.nvidia.com/compute/cuda/repos/ubuntu1804/x86_64  cuda-nvrtc-dev-10-1 10.1.105-1 [9,362 B]\n",
            "Get:32 https://developer.download.nvidia.com/compute/cuda/repos/ubuntu1804/x86_64  cuda-cusolver-10-1 10.1.105-1 [47.3 MB]\n",
            "Get:33 https://developer.download.nvidia.com/compute/cuda/repos/ubuntu1804/x86_64  cuda-cusolver-dev-10-1 10.1.105-1 [15.3 MB]\n",
            "Get:34 https://developer.download.nvidia.com/compute/cuda/repos/ubuntu1804/x86_64  libcublas10 10.1.0.105-1 [42.5 MB]\n",
            "Get:35 https://developer.download.nvidia.com/compute/cuda/repos/ubuntu1804/x86_64  libcublas-dev 10.1.0.105-1 [39.9 MB]\n",
            "Get:36 https://developer.download.nvidia.com/compute/cuda/repos/ubuntu1804/x86_64  cuda-cufft-10-1 10.1.105-1 [65.7 MB]\n",
            "Get:37 https://developer.download.nvidia.com/compute/cuda/repos/ubuntu1804/x86_64  cuda-cufft-dev-10-1 10.1.105-1 [134 MB]\n",
            "Get:38 https://developer.download.nvidia.com/compute/cuda/repos/ubuntu1804/x86_64  cuda-curand-10-1 10.1.105-1 [38.9 MB]\n",
            "Get:39 https://developer.download.nvidia.com/compute/cuda/repos/ubuntu1804/x86_64  cuda-curand-dev-10-1 10.1.105-1 [58.1 MB]\n",
            "Get:40 https://developer.download.nvidia.com/compute/cuda/repos/ubuntu1804/x86_64  cuda-cusparse-10-1 10.1.105-1 [39.0 MB]\n",
            "Get:41 https://developer.download.nvidia.com/compute/cuda/repos/ubuntu1804/x86_64  cuda-cusparse-dev-10-1 10.1.105-1 [39.4 MB]\n",
            "Get:42 https://developer.download.nvidia.com/compute/cuda/repos/ubuntu1804/x86_64  cuda-npp-10-1 10.1.105-1 [54.5 MB]\n",
            "Get:43 https://developer.download.nvidia.com/compute/cuda/repos/ubuntu1804/x86_64  cuda-npp-dev-10-1 10.1.105-1 [55.2 MB]\n",
            "Get:44 https://developer.download.nvidia.com/compute/cuda/repos/ubuntu1804/x86_64  cuda-nvml-dev-10-1 10.1.105-1 [52.6 kB]\n",
            "Get:45 https://developer.download.nvidia.com/compute/cuda/repos/ubuntu1804/x86_64  cuda-nvjpeg-10-1 10.1.105-1 [942 kB]\n",
            "Get:46 https://developer.download.nvidia.com/compute/cuda/repos/ubuntu1804/x86_64  cuda-nvjpeg-dev-10-1 10.1.105-1 [871 kB]\n",
            "Get:47 https://developer.download.nvidia.com/compute/cuda/repos/ubuntu1804/x86_64  cuda-nsight-compute-10-1 10.1.105-1 [192 MB]\n",
            "Get:48 https://developer.download.nvidia.com/compute/cuda/repos/ubuntu1804/x86_64  cuda-nsight-systems-10-1 10.1.105-1 [50.6 MB]\n",
            "Get:49 https://developer.download.nvidia.com/compute/cuda/repos/ubuntu1804/x86_64  cuda-nvgraph-10-1 10.1.105-1 [43.3 MB]\n",
            "Get:50 https://developer.download.nvidia.com/compute/cuda/repos/ubuntu1804/x86_64  cuda-nvgraph-dev-10-1 10.1.105-1 [34.2 MB]\n",
            "Get:51 https://developer.download.nvidia.com/compute/cuda/repos/ubuntu1804/x86_64  cuda-visual-tools-10-1 10.1.105-1 [398 MB]\n",
            "Get:51 https://developer.download.nvidia.com/compute/cuda/repos/ubuntu1804/x86_64  cuda-visual-tools-10-1 10.1.105-1 [398 MB]\n",
            "Get:52 https://developer.download.nvidia.com/compute/cuda/repos/ubuntu1804/x86_64  cuda-tools-10-1 10.1.105-1 [2,504 B]\n",
            "Get:53 https://developer.download.nvidia.com/compute/cuda/repos/ubuntu1804/x86_64  cuda-samples-10-1 10.1.105-1 [60.8 MB]\n",
            "Get:54 https://developer.download.nvidia.com/compute/cuda/repos/ubuntu1804/x86_64  cuda-documentation-10-1 10.1.105-1 [50.2 MB]\n",
            "Get:55 https://developer.download.nvidia.com/compute/cuda/repos/ubuntu1804/x86_64  cuda-libraries-dev-10-1 10.1.105-1 [2,620 B]\n",
            "Get:56 https://developer.download.nvidia.com/compute/cuda/repos/ubuntu1804/x86_64  cuda-toolkit-10-1 10.1.105-1 [2,832 B]\n",
            "Get:57 https://developer.download.nvidia.com/compute/cuda/repos/ubuntu1804/x86_64  cuda-libraries-10-1 10.1.105-1 [2,598 B]\n",
            "Get:58 https://developer.download.nvidia.com/compute/cuda/repos/ubuntu1804/x86_64  cuda-runtime-10-1 10.1.105-1 [2,536 B]\n",
            "Get:59 https://developer.download.nvidia.com/compute/cuda/repos/ubuntu1804/x86_64  cuda-demo-suite-10-1 10.1.105-1 [3,857 kB]\n",
            "Get:60 https://developer.download.nvidia.com/compute/cuda/repos/ubuntu1804/x86_64  cuda-10-1 10.1.105-1 [2,570 B]\n",
            "Get:61 https://developer.download.nvidia.com/compute/cuda/repos/ubuntu1804/x86_64  cuda 10.1.105-1 [2,514 B]\n",
            "Fetched 1,177 MB in 32s (37.0 MB/s)\n",
            "Extracting templates from packages: 100%\n",
            "Selecting previously unselected package gcc-5-base:amd64.\n",
            "(Reading database ... 131398 files and directories currently installed.)\n",
            "Preparing to unpack .../00-gcc-5-base_5.5.0-12ubuntu1_amd64.deb ...\n",
            "Unpacking gcc-5-base:amd64 (5.5.0-12ubuntu1) ...\n",
            "Selecting previously unselected package libisl15:amd64.\n",
            "Preparing to unpack .../01-libisl15_0.18-4_amd64.deb ...\n",
            "Unpacking libisl15:amd64 (0.18-4) ...\n",
            "Selecting previously unselected package cpp-5.\n",
            "Preparing to unpack .../02-cpp-5_5.5.0-12ubuntu1_amd64.deb ...\n",
            "Unpacking cpp-5 (5.5.0-12ubuntu1) ...\n",
            "Selecting previously unselected package cuda-license-10-1.\n",
            "Preparing to unpack .../03-cuda-license-10-1_10.1.105-1_amd64.deb ...\n",
            "Unpacking cuda-license-10-1 (10.1.105-1) ...\n",
            "Selecting previously unselected package cuda-misc-headers-10-1.\n",
            "Preparing to unpack .../04-cuda-misc-headers-10-1_10.1.105-1_amd64.deb ...\n",
            "Unpacking cuda-misc-headers-10-1 (10.1.105-1) ...\n",
            "Selecting previously unselected package cuda-nvcc-10-1.\n",
            "Preparing to unpack .../05-cuda-nvcc-10-1_10.1.105-1_amd64.deb ...\n",
            "Unpacking cuda-nvcc-10-1 (10.1.105-1) ...\n",
            "Selecting previously unselected package cuda-cuobjdump-10-1.\n",
            "Preparing to unpack .../06-cuda-cuobjdump-10-1_10.1.105-1_amd64.deb ...\n",
            "Unpacking cuda-cuobjdump-10-1 (10.1.105-1) ...\n",
            "Selecting previously unselected package cuda-nvprune-10-1.\n",
            "Preparing to unpack .../07-cuda-nvprune-10-1_10.1.105-1_amd64.deb ...\n",
            "Unpacking cuda-nvprune-10-1 (10.1.105-1) ...\n",
            "Selecting previously unselected package cuda-compiler-10-1.\n",
            "Preparing to unpack .../08-cuda-compiler-10-1_10.1.105-1_amd64.deb ...\n",
            "Unpacking cuda-compiler-10-1 (10.1.105-1) ...\n",
            "Selecting previously unselected package cuda-nvdisasm-10-1.\n",
            "Preparing to unpack .../09-cuda-nvdisasm-10-1_10.1.105-1_amd64.deb ...\n",
            "Unpacking cuda-nvdisasm-10-1 (10.1.105-1) ...\n",
            "Selecting previously unselected package cuda-gdb-10-1.\n",
            "Preparing to unpack .../10-cuda-gdb-10-1_10.1.105-1_amd64.deb ...\n",
            "Unpacking cuda-gdb-10-1 (10.1.105-1) ...\n",
            "Selecting previously unselected package cuda-nvprof-10-1.\n",
            "Preparing to unpack .../11-cuda-nvprof-10-1_10.1.105-1_amd64.deb ...\n",
            "Unpacking cuda-nvprof-10-1 (10.1.105-1) ...\n",
            "Selecting previously unselected package cuda-sanitizer-api-10-1.\n",
            "Preparing to unpack .../12-cuda-sanitizer-api-10-1_10.1.105-1_amd64.deb ...\n",
            "Unpacking cuda-sanitizer-api-10-1 (10.1.105-1) ...\n",
            "Selecting previously unselected package cuda-memcheck-10-1.\n",
            "Preparing to unpack .../13-cuda-memcheck-10-1_10.1.105-1_amd64.deb ...\n",
            "Unpacking cuda-memcheck-10-1 (10.1.105-1) ...\n",
            "Selecting previously unselected package cuda-cudart-10-1.\n",
            "Preparing to unpack .../14-cuda-cudart-10-1_10.1.105-1_amd64.deb ...\n",
            "Unpacking cuda-cudart-10-1 (10.1.105-1) ...\n",
            "Selecting previously unselected package cuda-driver-dev-10-1.\n",
            "Preparing to unpack .../15-cuda-driver-dev-10-1_10.1.105-1_amd64.deb ...\n",
            "Unpacking cuda-driver-dev-10-1 (10.1.105-1) ...\n",
            "Selecting previously unselected package cuda-cudart-dev-10-1.\n",
            "Preparing to unpack .../16-cuda-cudart-dev-10-1_10.1.105-1_amd64.deb ...\n",
            "Unpacking cuda-cudart-dev-10-1 (10.1.105-1) ...\n",
            "Selecting previously unselected package cuda-cupti-10-1.\n",
            "Preparing to unpack .../17-cuda-cupti-10-1_10.1.105-1_amd64.deb ...\n",
            "Unpacking cuda-cupti-10-1 (10.1.105-1) ...\n",
            "Selecting previously unselected package cuda-gpu-library-advisor-10-1.\n",
            "Preparing to unpack .../18-cuda-gpu-library-advisor-10-1_10.1.105-1_amd64.deb ...\n",
            "Unpacking cuda-gpu-library-advisor-10-1 (10.1.105-1) ...\n",
            "Selecting previously unselected package cuda-nvtx-10-1.\n",
            "Preparing to unpack .../19-cuda-nvtx-10-1_10.1.105-1_amd64.deb ...\n",
            "Unpacking cuda-nvtx-10-1 (10.1.105-1) ...\n",
            "Selecting previously unselected package cuda-command-line-tools-10-1.\n",
            "Preparing to unpack .../20-cuda-command-line-tools-10-1_10.1.105-1_amd64.deb ...\n",
            "Unpacking cuda-command-line-tools-10-1 (10.1.105-1) ...\n",
            "Selecting previously unselected package cuda-nsight-10-1.\n",
            "Preparing to unpack .../21-cuda-nsight-10-1_10.1.105-1_amd64.deb ...\n",
            "Unpacking cuda-nsight-10-1 (10.1.105-1) ...\n",
            "Selecting previously unselected package cuda-nvvp-10-1.\n",
            "Preparing to unpack .../22-cuda-nvvp-10-1_10.1.105-1_amd64.deb ...\n",
            "Unpacking cuda-nvvp-10-1 (10.1.105-1) ...\n",
            "Selecting previously unselected package cuda-nvrtc-10-1.\n",
            "Preparing to unpack .../23-cuda-nvrtc-10-1_10.1.105-1_amd64.deb ...\n",
            "Unpacking cuda-nvrtc-10-1 (10.1.105-1) ...\n",
            "Selecting previously unselected package cuda-nvrtc-dev-10-1.\n",
            "Preparing to unpack .../24-cuda-nvrtc-dev-10-1_10.1.105-1_amd64.deb ...\n",
            "Unpacking cuda-nvrtc-dev-10-1 (10.1.105-1) ...\n",
            "Selecting previously unselected package cuda-cusolver-10-1.\n",
            "Preparing to unpack .../25-cuda-cusolver-10-1_10.1.105-1_amd64.deb ...\n",
            "Unpacking cuda-cusolver-10-1 (10.1.105-1) ...\n",
            "Selecting previously unselected package cuda-cusolver-dev-10-1.\n",
            "Preparing to unpack .../26-cuda-cusolver-dev-10-1_10.1.105-1_amd64.deb ...\n",
            "Unpacking cuda-cusolver-dev-10-1 (10.1.105-1) ...\n",
            "Selecting previously unselected package libcublas10.\n",
            "Preparing to unpack .../27-libcublas10_10.1.0.105-1_amd64.deb ...\n",
            "Unpacking libcublas10 (10.1.0.105-1) ...\n",
            "Selecting previously unselected package libcublas-dev.\n",
            "Preparing to unpack .../28-libcublas-dev_10.1.0.105-1_amd64.deb ...\n",
            "Unpacking libcublas-dev (10.1.0.105-1) ...\n",
            "Selecting previously unselected package cuda-cufft-10-1.\n",
            "Preparing to unpack .../29-cuda-cufft-10-1_10.1.105-1_amd64.deb ...\n",
            "Unpacking cuda-cufft-10-1 (10.1.105-1) ...\n",
            "Selecting previously unselected package cuda-cufft-dev-10-1.\n",
            "Preparing to unpack .../30-cuda-cufft-dev-10-1_10.1.105-1_amd64.deb ...\n",
            "Unpacking cuda-cufft-dev-10-1 (10.1.105-1) ...\n",
            "Selecting previously unselected package cuda-curand-10-1.\n",
            "Preparing to unpack .../31-cuda-curand-10-1_10.1.105-1_amd64.deb ...\n",
            "Unpacking cuda-curand-10-1 (10.1.105-1) ...\n",
            "Selecting previously unselected package cuda-curand-dev-10-1.\n",
            "Preparing to unpack .../32-cuda-curand-dev-10-1_10.1.105-1_amd64.deb ...\n",
            "Unpacking cuda-curand-dev-10-1 (10.1.105-1) ...\n",
            "Selecting previously unselected package cuda-cusparse-10-1.\n",
            "Preparing to unpack .../33-cuda-cusparse-10-1_10.1.105-1_amd64.deb ...\n",
            "Unpacking cuda-cusparse-10-1 (10.1.105-1) ...\n",
            "Selecting previously unselected package cuda-cusparse-dev-10-1.\n",
            "Preparing to unpack .../34-cuda-cusparse-dev-10-1_10.1.105-1_amd64.deb ...\n",
            "Unpacking cuda-cusparse-dev-10-1 (10.1.105-1) ...\n",
            "Selecting previously unselected package cuda-npp-10-1.\n",
            "Preparing to unpack .../35-cuda-npp-10-1_10.1.105-1_amd64.deb ...\n",
            "Unpacking cuda-npp-10-1 (10.1.105-1) ...\n",
            "Selecting previously unselected package cuda-npp-dev-10-1.\n",
            "Preparing to unpack .../36-cuda-npp-dev-10-1_10.1.105-1_amd64.deb ...\n",
            "Unpacking cuda-npp-dev-10-1 (10.1.105-1) ...\n",
            "Selecting previously unselected package cuda-nvml-dev-10-1.\n",
            "Preparing to unpack .../37-cuda-nvml-dev-10-1_10.1.105-1_amd64.deb ...\n",
            "Unpacking cuda-nvml-dev-10-1 (10.1.105-1) ...\n",
            "Selecting previously unselected package cuda-nvjpeg-10-1.\n",
            "Preparing to unpack .../38-cuda-nvjpeg-10-1_10.1.105-1_amd64.deb ...\n",
            "Unpacking cuda-nvjpeg-10-1 (10.1.105-1) ...\n",
            "Selecting previously unselected package cuda-nvjpeg-dev-10-1.\n",
            "Preparing to unpack .../39-cuda-nvjpeg-dev-10-1_10.1.105-1_amd64.deb ...\n",
            "Unpacking cuda-nvjpeg-dev-10-1 (10.1.105-1) ...\n",
            "Selecting previously unselected package cuda-nsight-compute-10-1.\n",
            "Preparing to unpack .../40-cuda-nsight-compute-10-1_10.1.105-1_amd64.deb ...\n",
            "Unpacking cuda-nsight-compute-10-1 (10.1.105-1) ...\n",
            "Selecting previously unselected package cuda-nsight-systems-10-1.\n",
            "Preparing to unpack .../41-cuda-nsight-systems-10-1_10.1.105-1_amd64.deb ...\n",
            "Unpacking cuda-nsight-systems-10-1 (10.1.105-1) ...\n",
            "Selecting previously unselected package cuda-nvgraph-10-1.\n",
            "Preparing to unpack .../42-cuda-nvgraph-10-1_10.1.105-1_amd64.deb ...\n",
            "Unpacking cuda-nvgraph-10-1 (10.1.105-1) ...\n",
            "Selecting previously unselected package cuda-nvgraph-dev-10-1.\n",
            "Preparing to unpack .../43-cuda-nvgraph-dev-10-1_10.1.105-1_amd64.deb ...\n",
            "Unpacking cuda-nvgraph-dev-10-1 (10.1.105-1) ...\n",
            "Selecting previously unselected package cuda-visual-tools-10-1.\n",
            "Preparing to unpack .../44-cuda-visual-tools-10-1_10.1.105-1_amd64.deb ...\n",
            "Unpacking cuda-visual-tools-10-1 (10.1.105-1) ...\n",
            "Selecting previously unselected package cuda-tools-10-1.\n",
            "Preparing to unpack .../45-cuda-tools-10-1_10.1.105-1_amd64.deb ...\n",
            "Unpacking cuda-tools-10-1 (10.1.105-1) ...\n",
            "Selecting previously unselected package cuda-samples-10-1.\n",
            "Preparing to unpack .../46-cuda-samples-10-1_10.1.105-1_amd64.deb ...\n",
            "Unpacking cuda-samples-10-1 (10.1.105-1) ...\n",
            "Selecting previously unselected package cuda-documentation-10-1.\n",
            "Preparing to unpack .../47-cuda-documentation-10-1_10.1.105-1_amd64.deb ...\n",
            "Unpacking cuda-documentation-10-1 (10.1.105-1) ...\n",
            "Selecting previously unselected package cuda-libraries-dev-10-1.\n",
            "Preparing to unpack .../48-cuda-libraries-dev-10-1_10.1.105-1_amd64.deb ...\n",
            "Unpacking cuda-libraries-dev-10-1 (10.1.105-1) ...\n",
            "Selecting previously unselected package cuda-toolkit-10-1.\n",
            "Preparing to unpack .../49-cuda-toolkit-10-1_10.1.105-1_amd64.deb ...\n",
            "Unpacking cuda-toolkit-10-1 (10.1.105-1) ...\n",
            "Selecting previously unselected package cuda-libraries-10-1.\n",
            "Preparing to unpack .../50-cuda-libraries-10-1_10.1.105-1_amd64.deb ...\n",
            "Unpacking cuda-libraries-10-1 (10.1.105-1) ...\n",
            "Selecting previously unselected package cuda-runtime-10-1.\n",
            "Preparing to unpack .../51-cuda-runtime-10-1_10.1.105-1_amd64.deb ...\n",
            "Unpacking cuda-runtime-10-1 (10.1.105-1) ...\n",
            "Selecting previously unselected package cuda-demo-suite-10-1.\n",
            "Preparing to unpack .../52-cuda-demo-suite-10-1_10.1.105-1_amd64.deb ...\n",
            "Unpacking cuda-demo-suite-10-1 (10.1.105-1) ...\n",
            "Selecting previously unselected package cuda-10-1.\n",
            "Preparing to unpack .../53-cuda-10-1_10.1.105-1_amd64.deb ...\n",
            "Unpacking cuda-10-1 (10.1.105-1) ...\n",
            "Selecting previously unselected package cuda.\n",
            "Preparing to unpack .../54-cuda_10.1.105-1_amd64.deb ...\n",
            "Unpacking cuda (10.1.105-1) ...\n",
            "Selecting previously unselected package libasan2:amd64.\n",
            "Preparing to unpack .../55-libasan2_5.5.0-12ubuntu1_amd64.deb ...\n",
            "Unpacking libasan2:amd64 (5.5.0-12ubuntu1) ...\n",
            "Selecting previously unselected package libmpx0:amd64.\n",
            "Preparing to unpack .../56-libmpx0_5.5.0-12ubuntu1_amd64.deb ...\n",
            "Unpacking libmpx0:amd64 (5.5.0-12ubuntu1) ...\n",
            "Selecting previously unselected package libgcc-5-dev:amd64.\n",
            "Preparing to unpack .../57-libgcc-5-dev_5.5.0-12ubuntu1_amd64.deb ...\n",
            "Unpacking libgcc-5-dev:amd64 (5.5.0-12ubuntu1) ...\n",
            "Selecting previously unselected package gcc-5.\n",
            "Preparing to unpack .../58-gcc-5_5.5.0-12ubuntu1_amd64.deb ...\n",
            "Unpacking gcc-5 (5.5.0-12ubuntu1) ...\n",
            "Selecting previously unselected package libstdc++-5-dev:amd64.\n",
            "Preparing to unpack .../59-libstdc++-5-dev_5.5.0-12ubuntu1_amd64.deb ...\n",
            "Unpacking libstdc++-5-dev:amd64 (5.5.0-12ubuntu1) ...\n",
            "Selecting previously unselected package g++-5.\n",
            "Preparing to unpack .../60-g++-5_5.5.0-12ubuntu1_amd64.deb ...\n",
            "Unpacking g++-5 (5.5.0-12ubuntu1) ...\n",
            "Setting up cuda-license-10-1 (10.1.105-1) ...\n",
            "*** LICENSE AGREEMENT ***\n",
            "By using this software you agree to fully comply with the terms and \n",
            "conditions of the EULA (End User License Agreement). The EULA is located\n",
            "at /usr/local/cuda-10.1/doc/EULA.txt. The EULA can also be found at\n",
            "http://docs.nvidia.com/cuda/eula/index.html. If you do not agree to the\n",
            "terms and conditions of the EULA, do not use the software.\n",
            "\n",
            "Setting up cuda-cusparse-10-1 (10.1.105-1) ...\n",
            "Setting up cuda-nvjpeg-10-1 (10.1.105-1) ...\n",
            "Setting up cuda-nsight-10-1 (10.1.105-1) ...\n",
            "Setting up cuda-nvdisasm-10-1 (10.1.105-1) ...\n",
            "Setting up cuda-nvml-dev-10-1 (10.1.105-1) ...\n",
            "Setting up cuda-sanitizer-api-10-1 (10.1.105-1) ...\n",
            "Setting up cuda-nvjpeg-dev-10-1 (10.1.105-1) ...\n",
            "Setting up cuda-cufft-10-1 (10.1.105-1) ...\n",
            "Setting up cuda-nvprof-10-1 (10.1.105-1) ...\n",
            "Setting up cuda-nvrtc-10-1 (10.1.105-1) ...\n",
            "Setting up libisl15:amd64 (0.18-4) ...\n",
            "Setting up libcublas10 (10.1.0.105-1) ...\n",
            "Setting up libcublas-dev (10.1.0.105-1) ...\n",
            "Processing triggers for libc-bin (2.27-3ubuntu1) ...\n",
            "Setting up cuda-npp-10-1 (10.1.105-1) ...\n",
            "Setting up cuda-cufft-dev-10-1 (10.1.105-1) ...\n",
            "Processing triggers for man-db (2.8.3-2ubuntu0.1) ...\n",
            "Setting up cuda-nvvp-10-1 (10.1.105-1) ...\n",
            "Setting up cuda-driver-dev-10-1 (10.1.105-1) ...\n",
            "Setting up cuda-cuobjdump-10-1 (10.1.105-1) ...\n",
            "Setting up cuda-nsight-systems-10-1 (10.1.105-1) ...\n",
            "Setting up cuda-gdb-10-1 (10.1.105-1) ...\n",
            "Setting up gcc-5-base:amd64 (5.5.0-12ubuntu1) ...\n",
            "Setting up cuda-nsight-compute-10-1 (10.1.105-1) ...\n",
            "Setting up cuda-cudart-10-1 (10.1.105-1) ...\n",
            "Setting up cuda-npp-dev-10-1 (10.1.105-1) ...\n",
            "Setting up cuda-cusolver-10-1 (10.1.105-1) ...\n",
            "Setting up libmpx0:amd64 (5.5.0-12ubuntu1) ...\n",
            "Setting up cuda-misc-headers-10-1 (10.1.105-1) ...\n",
            "Setting up cuda-nvtx-10-1 (10.1.105-1) ...\n",
            "Setting up cuda-curand-10-1 (10.1.105-1) ...\n",
            "Setting up cuda-cusparse-dev-10-1 (10.1.105-1) ...\n",
            "Setting up cuda-gpu-library-advisor-10-1 (10.1.105-1) ...\n",
            "Setting up cuda-nvgraph-10-1 (10.1.105-1) ...\n",
            "Setting up cuda-nvprune-10-1 (10.1.105-1) ...\n",
            "Setting up cuda-memcheck-10-1 (10.1.105-1) ...\n",
            "Setting up cuda-cudart-dev-10-1 (10.1.105-1) ...\n",
            "Setting up libasan2:amd64 (5.5.0-12ubuntu1) ...\n",
            "Setting up cuda-nvrtc-dev-10-1 (10.1.105-1) ...\n",
            "Setting up cuda-curand-dev-10-1 (10.1.105-1) ...\n",
            "Setting up cuda-cusolver-dev-10-1 (10.1.105-1) ...\n",
            "Setting up libgcc-5-dev:amd64 (5.5.0-12ubuntu1) ...\n",
            "Setting up cpp-5 (5.5.0-12ubuntu1) ...\n",
            "Setting up cuda-nvgraph-dev-10-1 (10.1.105-1) ...\n",
            "Setting up libstdc++-5-dev:amd64 (5.5.0-12ubuntu1) ...\n",
            "Setting up cuda-libraries-10-1 (10.1.105-1) ...\n",
            "Setting up cuda-nvcc-10-1 (10.1.105-1) ...\n",
            "Setting up cuda-runtime-10-1 (10.1.105-1) ...\n",
            "Setting up cuda-compiler-10-1 (10.1.105-1) ...\n",
            "Setting up cuda-demo-suite-10-1 (10.1.105-1) ...\n",
            "Setting up cuda-visual-tools-10-1 (10.1.105-1) ...\n",
            "Setting up cuda-libraries-dev-10-1 (10.1.105-1) ...\n",
            "Setting up gcc-5 (5.5.0-12ubuntu1) ...\n",
            "Setting up g++-5 (5.5.0-12ubuntu1) ...\n",
            "Setting up cuda-samples-10-1 (10.1.105-1) ...\n",
            "Setting up cuda-cupti-10-1 (10.1.105-1) ...\n",
            "Setting up cuda-documentation-10-1 (10.1.105-1) ...\n",
            "Setting up cuda-command-line-tools-10-1 (10.1.105-1) ...\n",
            "Setting up cuda-tools-10-1 (10.1.105-1) ...\n",
            "Setting up cuda-toolkit-10-1 (10.1.105-1) ...\n",
            "Setting up cuda-10-1 (10.1.105-1) ...\n",
            "Setting up cuda (10.1.105-1) ...\n",
            "Processing triggers for libc-bin (2.27-3ubuntu1) ...\n",
            "Reading package lists... Done\n",
            "Building dependency tree       \n",
            "Reading state information... Done\n",
            "Note, selecting 'cuda-8-0' for regex 'cuda-8.0'\n",
            "Note, selecting 'libcuda-8.0-1' for regex 'cuda-8.0'\n",
            "The following package was automatically installed and is no longer required:\n",
            "  libnvidia-common-410\n",
            "Use 'apt autoremove' to remove it.\n",
            "The following additional packages will be installed:\n",
            "  cuda-command-line-tools-8-0 cuda-core-8-0 cuda-cublas-8-0\n",
            "  cuda-cublas-dev-8-0 cuda-cudart-8-0 cuda-cudart-dev-8-0 cuda-cufft-8-0\n",
            "  cuda-cufft-dev-8-0 cuda-curand-8-0 cuda-curand-dev-8-0 cuda-cusolver-8-0\n",
            "  cuda-cusolver-dev-8-0 cuda-cusparse-8-0 cuda-cusparse-dev-8-0\n",
            "  cuda-demo-suite-8-0 cuda-documentation-8-0 cuda-driver-dev-8-0\n",
            "  cuda-license-8-0 cuda-misc-headers-8-0 cuda-npp-8-0 cuda-npp-dev-8-0\n",
            "  cuda-nvgraph-8-0 cuda-nvgraph-dev-8-0 cuda-nvml-dev-8-0 cuda-nvrtc-8-0\n",
            "  cuda-nvrtc-dev-8-0 cuda-runtime-8-0 cuda-samples-8-0 cuda-toolkit-8-0\n",
            "  cuda-visual-tools-8-0\n",
            "The following NEW packages will be installed:\n",
            "  cuda-8-0 cuda-command-line-tools-8-0 cuda-core-8-0 cuda-cublas-8-0\n",
            "  cuda-cublas-dev-8-0 cuda-cudart-8-0 cuda-cudart-dev-8-0 cuda-cufft-8-0\n",
            "  cuda-cufft-dev-8-0 cuda-curand-8-0 cuda-curand-dev-8-0 cuda-cusolver-8-0\n",
            "  cuda-cusolver-dev-8-0 cuda-cusparse-8-0 cuda-cusparse-dev-8-0\n",
            "  cuda-demo-suite-8-0 cuda-documentation-8-0 cuda-driver-dev-8-0\n",
            "  cuda-license-8-0 cuda-misc-headers-8-0 cuda-npp-8-0 cuda-npp-dev-8-0\n",
            "  cuda-nvgraph-8-0 cuda-nvgraph-dev-8-0 cuda-nvml-dev-8-0 cuda-nvrtc-8-0\n",
            "  cuda-nvrtc-dev-8-0 cuda-runtime-8-0 cuda-samples-8-0 cuda-toolkit-8-0\n",
            "  cuda-visual-tools-8-0\n",
            "0 upgraded, 31 newly installed, 0 to remove and 46 not upgraded.\n",
            "Need to get 0 B/1,312 MB of archives.\n",
            "After this operation, 2,079 MB of additional disk space will be used.\n",
            "Get:1 file:/var/cuda-repo-8-0-local-ga2  cuda-license-8-0 8.0.61-1 [27.6 kB]\n",
            "Get:2 file:/var/cuda-repo-8-0-local-ga2  cuda-misc-headers-8-0 8.0.61-1 [1,077 kB]\n",
            "Get:3 file:/var/cuda-repo-8-0-local-ga2  cuda-core-8-0 8.0.61-1 [20.0 MB]\n",
            "Get:4 file:/var/cuda-repo-8-0-local-ga2  cuda-cudart-8-0 8.0.61-1 [135 kB]\n",
            "Get:5 file:/var/cuda-repo-8-0-local-ga2  cuda-driver-dev-8-0 8.0.61-1 [14.1 kB]\n",
            "Get:6 file:/var/cuda-repo-8-0-local-ga2  cuda-cudart-dev-8-0 8.0.61-1 [1,071 kB]\n",
            "Get:7 file:/var/cuda-repo-8-0-local-ga2  cuda-command-line-tools-8-0 8.0.61-1 [26.1 MB]\n",
            "Get:8 file:/var/cuda-repo-8-0-local-ga2  cuda-nvrtc-8-0 8.0.61-1 [9,585 kB]\n",
            "Get:9 file:/var/cuda-repo-8-0-local-ga2  cuda-nvrtc-dev-8-0 8.0.61-1 [10.8 kB]\n",
            "Get:10 file:/var/cuda-repo-8-0-local-ga2  cuda-cusolver-8-0 8.0.61-1 [29.3 MB]\n",
            "Get:11 file:/var/cuda-repo-8-0-local-ga2  cuda-cusolver-dev-8-0 8.0.61-1 [6,816 kB]\n",
            "Get:12 file:/var/cuda-repo-8-0-local-ga2  cuda-cublas-8-0 8.0.61-1 [27.2 MB]\n",
            "Get:13 file:/var/cuda-repo-8-0-local-ga2  cuda-cublas-dev-8-0 8.0.61-1 [57.4 MB]\n",
            "Get:14 file:/var/cuda-repo-8-0-local-ga2  cuda-cufft-8-0 8.0.61-1 [117 MB]\n",
            "Get:15 file:/var/cuda-repo-8-0-local-ga2  cuda-cufft-dev-8-0 8.0.61-1 [94.8 MB]\n",
            "Get:16 file:/var/cuda-repo-8-0-local-ga2  cuda-curand-8-0 8.0.61-1 [43.7 MB]\n",
            "Get:17 file:/var/cuda-repo-8-0-local-ga2  cuda-curand-dev-8-0 8.0.61-1 [67.7 MB]\n",
            "Get:18 file:/var/cuda-repo-8-0-local-ga2  cuda-cusparse-8-0 8.0.61-1 [28.8 MB]\n",
            "Get:19 file:/var/cuda-repo-8-0-local-ga2  cuda-cusparse-dev-8-0 8.0.61-1 [29.6 MB]\n",
            "Get:20 file:/var/cuda-repo-8-0-local-ga2  cuda-npp-8-0 8.0.61-1 [157 MB]\n",
            "Get:21 file:/var/cuda-repo-8-0-local-ga2  cuda-npp-dev-8-0 8.0.61-1 [82.3 MB]\n",
            "Get:22 file:/var/cuda-repo-8-0-local-ga2  cuda-samples-8-0 8.0.61-1 [101 MB]\n",
            "Get:23 file:/var/cuda-repo-8-0-local-ga2  cuda-documentation-8-0 8.0.61-1 [113 MB]\n",
            "Get:24 file:/var/cuda-repo-8-0-local-ga2  cuda-nvml-dev-8-0 8.0.61-1 [48.4 kB]\n",
            "Get:25 file:/var/cuda-repo-8-0-local-ga2  cuda-nvgraph-8-0 8.0.61-1 [2,948 kB]\n",
            "Get:26 file:/var/cuda-repo-8-0-local-ga2  cuda-nvgraph-dev-8-0 8.0.61-1 [3,028 kB]\n",
            "Get:27 file:/var/cuda-repo-8-0-local-ga2  cuda-visual-tools-8-0 8.0.61-1 [286 MB]\n",
            "Get:28 file:/var/cuda-repo-8-0-local-ga2  cuda-toolkit-8-0 8.0.61-1 [2,892 B]\n",
            "Get:29 file:/var/cuda-repo-8-0-local-ga2  cuda-runtime-8-0 8.0.61-1 [2,574 B]\n",
            "Get:30 file:/var/cuda-repo-8-0-local-ga2  cuda-demo-suite-8-0 8.0.61-1 [4,988 kB]\n",
            "Get:31 file:/var/cuda-repo-8-0-local-ga2  cuda-8-0 8.0.61-1 [2,556 B]\n",
            "Extracting templates from packages: 100%\n",
            "Selecting previously unselected package cuda-license-8-0.\n",
            "(Reading database ... 144389 files and directories currently installed.)\n",
            "Preparing to unpack .../00-cuda-license-8-0_8.0.61-1_amd64.deb ...\n",
            "Unpacking cuda-license-8-0 (8.0.61-1) ...\n",
            "Selecting previously unselected package cuda-misc-headers-8-0.\n",
            "Preparing to unpack .../01-cuda-misc-headers-8-0_8.0.61-1_amd64.deb ...\n",
            "Unpacking cuda-misc-headers-8-0 (8.0.61-1) ...\n",
            "Selecting previously unselected package cuda-core-8-0.\n",
            "Preparing to unpack .../02-cuda-core-8-0_8.0.61-1_amd64.deb ...\n",
            "Unpacking cuda-core-8-0 (8.0.61-1) ...\n",
            "Selecting previously unselected package cuda-cudart-8-0.\n",
            "Preparing to unpack .../03-cuda-cudart-8-0_8.0.61-1_amd64.deb ...\n",
            "Unpacking cuda-cudart-8-0 (8.0.61-1) ...\n",
            "Selecting previously unselected package cuda-driver-dev-8-0.\n",
            "Preparing to unpack .../04-cuda-driver-dev-8-0_8.0.61-1_amd64.deb ...\n",
            "Unpacking cuda-driver-dev-8-0 (8.0.61-1) ...\n",
            "Selecting previously unselected package cuda-cudart-dev-8-0.\n",
            "Preparing to unpack .../05-cuda-cudart-dev-8-0_8.0.61-1_amd64.deb ...\n",
            "Unpacking cuda-cudart-dev-8-0 (8.0.61-1) ...\n",
            "Selecting previously unselected package cuda-command-line-tools-8-0.\n",
            "Preparing to unpack .../06-cuda-command-line-tools-8-0_8.0.61-1_amd64.deb ...\n",
            "Unpacking cuda-command-line-tools-8-0 (8.0.61-1) ...\n",
            "Selecting previously unselected package cuda-nvrtc-8-0.\n",
            "Preparing to unpack .../07-cuda-nvrtc-8-0_8.0.61-1_amd64.deb ...\n",
            "Unpacking cuda-nvrtc-8-0 (8.0.61-1) ...\n",
            "Selecting previously unselected package cuda-nvrtc-dev-8-0.\n",
            "Preparing to unpack .../08-cuda-nvrtc-dev-8-0_8.0.61-1_amd64.deb ...\n",
            "Unpacking cuda-nvrtc-dev-8-0 (8.0.61-1) ...\n",
            "Selecting previously unselected package cuda-cusolver-8-0.\n",
            "Preparing to unpack .../09-cuda-cusolver-8-0_8.0.61-1_amd64.deb ...\n",
            "Unpacking cuda-cusolver-8-0 (8.0.61-1) ...\n",
            "Selecting previously unselected package cuda-cusolver-dev-8-0.\n",
            "Preparing to unpack .../10-cuda-cusolver-dev-8-0_8.0.61-1_amd64.deb ...\n",
            "Unpacking cuda-cusolver-dev-8-0 (8.0.61-1) ...\n",
            "Selecting previously unselected package cuda-cublas-8-0.\n",
            "Preparing to unpack .../11-cuda-cublas-8-0_8.0.61-1_amd64.deb ...\n",
            "Unpacking cuda-cublas-8-0 (8.0.61-1) ...\n",
            "Selecting previously unselected package cuda-cublas-dev-8-0.\n",
            "Preparing to unpack .../12-cuda-cublas-dev-8-0_8.0.61-1_amd64.deb ...\n",
            "Unpacking cuda-cublas-dev-8-0 (8.0.61-1) ...\n",
            "Selecting previously unselected package cuda-cufft-8-0.\n",
            "Preparing to unpack .../13-cuda-cufft-8-0_8.0.61-1_amd64.deb ...\n",
            "Unpacking cuda-cufft-8-0 (8.0.61-1) ...\n",
            "Selecting previously unselected package cuda-cufft-dev-8-0.\n",
            "Preparing to unpack .../14-cuda-cufft-dev-8-0_8.0.61-1_amd64.deb ...\n",
            "Unpacking cuda-cufft-dev-8-0 (8.0.61-1) ...\n",
            "Selecting previously unselected package cuda-curand-8-0.\n",
            "Preparing to unpack .../15-cuda-curand-8-0_8.0.61-1_amd64.deb ...\n",
            "Unpacking cuda-curand-8-0 (8.0.61-1) ...\n",
            "Selecting previously unselected package cuda-curand-dev-8-0.\n",
            "Preparing to unpack .../16-cuda-curand-dev-8-0_8.0.61-1_amd64.deb ...\n",
            "Unpacking cuda-curand-dev-8-0 (8.0.61-1) ...\n",
            "Selecting previously unselected package cuda-cusparse-8-0.\n",
            "Preparing to unpack .../17-cuda-cusparse-8-0_8.0.61-1_amd64.deb ...\n",
            "Unpacking cuda-cusparse-8-0 (8.0.61-1) ...\n",
            "Selecting previously unselected package cuda-cusparse-dev-8-0.\n",
            "Preparing to unpack .../18-cuda-cusparse-dev-8-0_8.0.61-1_amd64.deb ...\n",
            "Unpacking cuda-cusparse-dev-8-0 (8.0.61-1) ...\n",
            "Selecting previously unselected package cuda-npp-8-0.\n",
            "Preparing to unpack .../19-cuda-npp-8-0_8.0.61-1_amd64.deb ...\n",
            "Unpacking cuda-npp-8-0 (8.0.61-1) ...\n",
            "Selecting previously unselected package cuda-npp-dev-8-0.\n",
            "Preparing to unpack .../20-cuda-npp-dev-8-0_8.0.61-1_amd64.deb ...\n",
            "Unpacking cuda-npp-dev-8-0 (8.0.61-1) ...\n",
            "Selecting previously unselected package cuda-samples-8-0.\n",
            "Preparing to unpack .../21-cuda-samples-8-0_8.0.61-1_amd64.deb ...\n",
            "Unpacking cuda-samples-8-0 (8.0.61-1) ...\n",
            "Selecting previously unselected package cuda-documentation-8-0.\n",
            "Preparing to unpack .../22-cuda-documentation-8-0_8.0.61-1_amd64.deb ...\n",
            "Unpacking cuda-documentation-8-0 (8.0.61-1) ...\n",
            "Selecting previously unselected package cuda-nvml-dev-8-0.\n",
            "Preparing to unpack .../23-cuda-nvml-dev-8-0_8.0.61-1_amd64.deb ...\n",
            "Unpacking cuda-nvml-dev-8-0 (8.0.61-1) ...\n",
            "Selecting previously unselected package cuda-nvgraph-8-0.\n",
            "Preparing to unpack .../24-cuda-nvgraph-8-0_8.0.61-1_amd64.deb ...\n",
            "Unpacking cuda-nvgraph-8-0 (8.0.61-1) ...\n",
            "Selecting previously unselected package cuda-nvgraph-dev-8-0.\n",
            "Preparing to unpack .../25-cuda-nvgraph-dev-8-0_8.0.61-1_amd64.deb ...\n",
            "Unpacking cuda-nvgraph-dev-8-0 (8.0.61-1) ...\n",
            "Selecting previously unselected package cuda-visual-tools-8-0.\n",
            "Preparing to unpack .../26-cuda-visual-tools-8-0_8.0.61-1_amd64.deb ...\n",
            "Unpacking cuda-visual-tools-8-0 (8.0.61-1) ...\n",
            "Selecting previously unselected package cuda-toolkit-8-0.\n",
            "Preparing to unpack .../27-cuda-toolkit-8-0_8.0.61-1_amd64.deb ...\n",
            "Unpacking cuda-toolkit-8-0 (8.0.61-1) ...\n",
            "Selecting previously unselected package cuda-runtime-8-0.\n",
            "Preparing to unpack .../28-cuda-runtime-8-0_8.0.61-1_amd64.deb ...\n",
            "Unpacking cuda-runtime-8-0 (8.0.61-1) ...\n",
            "Selecting previously unselected package cuda-demo-suite-8-0.\n",
            "Preparing to unpack .../29-cuda-demo-suite-8-0_8.0.61-1_amd64.deb ...\n",
            "Unpacking cuda-demo-suite-8-0 (8.0.61-1) ...\n",
            "Selecting previously unselected package cuda-8-0.\n",
            "Preparing to unpack .../30-cuda-8-0_8.0.61-1_amd64.deb ...\n",
            "Unpacking cuda-8-0 (8.0.61-1) ...\n",
            "Setting up cuda-license-8-0 (8.0.61-1) ...\n",
            "*** LICENSE AGREEMENT ***\n",
            "By using this software you agree to fully comply with the terms and \n",
            "conditions of the EULA (End User License Agreement). The EULA is located\n",
            "at /usr/local/cuda-8.0/doc/EULA.txt. The EULA can also be found at\n",
            "http://docs.nvidia.com/cuda/eula/index.html. If you do not agree to the\n",
            "terms and conditions of the EULA, do not use the software.\n",
            "\n",
            "Setting up cuda-nvgraph-8-0 (8.0.61-1) ...\n",
            "Setting up cuda-cufft-8-0 (8.0.61-1) ...\n",
            "Setting up cuda-npp-8-0 (8.0.61-1) ...\n",
            "Setting up cuda-nvgraph-dev-8-0 (8.0.61-1) ...\n",
            "Setting up cuda-cudart-8-0 (8.0.61-1) ...\n",
            "Setting up cuda-driver-dev-8-0 (8.0.61-1) ...\n",
            "Setting up cuda-cusolver-8-0 (8.0.61-1) ...\n",
            "Setting up cuda-nvml-dev-8-0 (8.0.61-1) ...\n",
            "Setting up cuda-cufft-dev-8-0 (8.0.61-1) ...\n",
            "Setting up cuda-misc-headers-8-0 (8.0.61-1) ...\n",
            "Setting up cuda-cusparse-8-0 (8.0.61-1) ...\n",
            "Setting up cuda-nvrtc-8-0 (8.0.61-1) ...\n",
            "Setting up cuda-nvrtc-dev-8-0 (8.0.61-1) ...\n",
            "Setting up cuda-curand-8-0 (8.0.61-1) ...\n",
            "Setting up cuda-cublas-8-0 (8.0.61-1) ...\n",
            "Setting up cuda-cusolver-dev-8-0 (8.0.61-1) ...\n",
            "Setting up cuda-core-8-0 (8.0.61-1) ...\n",
            "Setting up cuda-curand-dev-8-0 (8.0.61-1) ...\n",
            "Setting up cuda-npp-dev-8-0 (8.0.61-1) ...\n",
            "Setting up cuda-cudart-dev-8-0 (8.0.61-1) ...\n",
            "Setting up cuda-cublas-dev-8-0 (8.0.61-1) ...\n",
            "Setting up cuda-runtime-8-0 (8.0.61-1) ...\n",
            "Setting up cuda-cusparse-dev-8-0 (8.0.61-1) ...\n",
            "Setting up cuda-command-line-tools-8-0 (8.0.61-1) ...\n",
            "Setting up cuda-demo-suite-8-0 (8.0.61-1) ...\n",
            "Setting up cuda-samples-8-0 (8.0.61-1) ...\n",
            "Setting up cuda-visual-tools-8-0 (8.0.61-1) ...\n",
            "Setting up cuda-documentation-8-0 (8.0.61-1) ...\n",
            "Setting up cuda-toolkit-8-0 (8.0.61-1) ...\n",
            "Setting up cuda-8-0 (8.0.61-1) ...\n",
            "Processing triggers for libc-bin (2.27-3ubuntu1) ...\n"
          ],
          "name": "stdout"
        }
      ]
    },
    {
      "metadata": {
        "id": "ucWC5oO_U2Kn",
        "colab_type": "text"
      },
      "cell_type": "markdown",
      "source": [
        "## Testing NVCC & CMake Setup"
      ]
    },
    {
      "metadata": {
        "id": "d79Xlrmmm0oP",
        "colab_type": "code",
        "outputId": "8f69accc-bb9b-4bf3-d94e-4d666daffd53",
        "colab": {
          "base_uri": "https://localhost:8080/",
          "height": 34
        }
      },
      "cell_type": "code",
      "source": [
        "cd /content/PolyNetwork_CppTools/Build"
      ],
      "execution_count": 9,
      "outputs": [
        {
          "output_type": "stream",
          "text": [
            "/content/PolyNetwork_CppTools/Build\n"
          ],
          "name": "stdout"
        }
      ]
    },
    {
      "metadata": {
        "id": "N17-uSdbKJLX",
        "colab_type": "code",
        "outputId": "aac505d2-157b-459f-9948-684d8b00e2c6",
        "colab": {
          "base_uri": "https://localhost:8080/",
          "height": 50
        }
      },
      "cell_type": "code",
      "source": [
        "!/usr/local/cuda/bin/nvcc #'fatal' message is expected, as no input files given; note that 'NVCC' is NVIDA's compiling tool for CUDA"
      ],
      "execution_count": 10,
      "outputs": [
        {
          "output_type": "stream",
          "text": [
            "nvcc warning : The 'compute_20', 'sm_20', and 'sm_21' architectures are deprecated, and may be removed in a future release (Use -Wno-deprecated-gpu-targets to suppress warning).\n",
            "nvcc fatal   : No input files specified; use option --help for more information\n"
          ],
          "name": "stdout"
        }
      ]
    },
    {
      "metadata": {
        "id": "SCQ7mbjlRMaG",
        "colab_type": "code",
        "colab": {}
      },
      "cell_type": "code",
      "source": [
        "!rm -rf * #rm = remove; r = remove directory and its contents recursively; f = force (do so wihtout prompts)"
      ],
      "execution_count": 0,
      "outputs": []
    },
    {
      "metadata": {
        "id": "XCPtF4Zm5Qqb",
        "colab_type": "code",
        "outputId": "c1155ea7-860b-4c01-de36-f55efc34a609",
        "colab": {
          "base_uri": "https://localhost:8080/",
          "height": 34
        }
      },
      "cell_type": "code",
      "source": [
        "cd /content/PolyNetwork_CppTools"
      ],
      "execution_count": 12,
      "outputs": [
        {
          "output_type": "stream",
          "text": [
            "/content/PolyNetwork_CppTools\n"
          ],
          "name": "stdout"
        }
      ]
    },
    {
      "metadata": {
        "id": "nK9zkmBPyOW4",
        "colab_type": "code",
        "outputId": "08466487-c704-43b9-d1df-e46b5c82f5e0",
        "colab": {
          "base_uri": "https://localhost:8080/",
          "height": 470
        }
      },
      "cell_type": "code",
      "source": [
        "!cmake ./"
      ],
      "execution_count": 13,
      "outputs": [
        {
          "output_type": "stream",
          "text": [
            "-- The C compiler identification is GNU 7.3.0\n",
            "-- The CXX compiler identification is GNU 7.3.0\n",
            "-- Check for working C compiler: /usr/bin/cc\n",
            "-- Check for working C compiler: /usr/bin/cc -- works\n",
            "-- Detecting C compiler ABI info\n",
            "-- Detecting C compiler ABI info - done\n",
            "-- Detecting C compile features\n",
            "-- Detecting C compile features - done\n",
            "-- Check for working CXX compiler: /usr/bin/c++\n",
            "-- Check for working CXX compiler: /usr/bin/c++ -- works\n",
            "-- Detecting CXX compiler ABI info\n",
            "-- Detecting CXX compiler ABI info - done\n",
            "-- Detecting CXX compile features\n",
            "-- Detecting CXX compile features - done\n",
            "-- Looking for pthread.h\n",
            "-- Looking for pthread.h - found\n",
            "-- Looking for pthread_create\n",
            "-- Looking for pthread_create - not found\n",
            "-- Looking for pthread_create in pthreads\n",
            "-- Looking for pthread_create in pthreads - not found\n",
            "-- Looking for pthread_create in pthread\n",
            "-- Looking for pthread_create in pthread - found\n",
            "-- Found Threads: TRUE  \n",
            "-- Found CUDA: /usr/local/cuda (found version \"8.0\") \n",
            "-- Configuring done\n",
            "-- Generating done\n",
            "-- Build files have been written to: /content/PolyNetwork_CppTools\n"
          ],
          "name": "stdout"
        }
      ]
    },
    {
      "metadata": {
        "id": "t2bQIU_iKVok",
        "colab_type": "code",
        "outputId": "1a7c15b4-e79b-4405-c143-7faae438f326",
        "colab": {
          "base_uri": "https://localhost:8080/",
          "height": 50
        }
      },
      "cell_type": "code",
      "source": [
        "!rm /usr/local/cuda/bin/gcc;\n",
        "!rm /usr/local/cuda/bin/g++;\n",
        "!ln -s /usr/bin/gcc-5 /usr/local/cuda/bin/gcc; #ln -s creates a symbolic link, essentially such that if something is queried at a location (which now no longer exists), the link points to a new location\n",
        "!ln -s /usr/bin/g++-5 /usr/local/cuda/bin/g++;"
      ],
      "execution_count": 14,
      "outputs": [
        {
          "output_type": "stream",
          "text": [
            "rm: cannot remove '/usr/local/cuda/bin/gcc': No such file or directory\n",
            "rm: cannot remove '/usr/local/cuda/bin/g++': No such file or directory\n"
          ],
          "name": "stdout"
        }
      ]
    },
    {
      "metadata": {
        "id": "47wHHoNcVtU3",
        "colab_type": "code",
        "outputId": "d92b323f-9a36-4a3e-a97f-aae1ecf9c47f",
        "colab": {
          "base_uri": "https://localhost:8080/",
          "height": 1236
        }
      },
      "cell_type": "code",
      "source": [
        "!make -j8 #j8 specifies that 8 jobs should be simultaneously execuded by the makefile"
      ],
      "execution_count": 0,
      "outputs": [
        {
          "output_type": "stream",
          "text": [
            "\u001b[35m\u001b[1mScanning dependencies of target SpikeCUDA\u001b[0m\n",
            "\u001b[35m\u001b[1mScanning dependencies of target SpikeDummy\u001b[0m\n",
            "[  2%] \u001b[34m\u001b[1mBuilding /content/PolyNetwork_CppTools/Spike/Spike/Backend/CUDA/ActivityMonitor/RateActivityMonitor.cu\u001b[0m\n",
            "[  1%] \u001b[34m\u001b[1mBuilding /content/PolyNetwork_CppTools/Spike/Spike/Backend/CUDA/ActivityMonitor/SpikingActivityMonitor.cu\u001b[0m\n",
            "[  3%] \u001b[34m\u001b[1mBuilding /content/PolyNetwork_CppTools/Spike/Spike/Backend/CUDA/Synapses/VoltageSpikingSynapses.cu\u001b[0m\n",
            "[  4%] \u001b[34m\u001b[1mBuilding /content/PolyNetwork_CppTools/Spike/Spike/Backend/CUDA/ActivityMonitor/ActivityMonitor.cu\u001b[0m\n",
            "[  5%] \u001b[34m\u001b[1mBuilding /content/PolyNetwork_CppTools/Spike/Spike/Backend/CUDA/CUDABackend.cu\u001b[0m\n",
            "[  7%] \u001b[34m\u001b[1mBuilding /content/PolyNetwork_CppTools/Spike/Spike/Backend/CUDA/Helpers/Memory.cu\u001b[0m\n",
            "[  8%] \u001b[34m\u001b[1mBuilding /content/PolyNetwork_CppTools/Spike/Spike/Backend/CUDA/Helpers/RandomStateManager.cu\u001b[0m\n",
            "\u001b[34mBuilding NVCC Device object /content/PolyNetwork_CppTools/Spike/Spike/Backend/CUDA/ActivityMonitor/ActivityMonitor.cu\u001b[0m\n",
            "\u001b[34mBuilding NVCC Device object /content/PolyNetwork_CppTools/Spike/Spike/Backend/CUDA/Synapses/VoltageSpikingSynapses.cu\u001b[0m\n",
            "\u001b[34mBuilding NVCC Device object /content/PolyNetwork_CppTools/Spike/Spike/Backend/CUDA/CUDABackend.cu\u001b[0m\n",
            "\u001b[34mBuilding NVCC Device object /content/PolyNetwork_CppTools/Spike/Spike/Backend/CUDA/ActivityMonitor/SpikingActivityMonitor.cu\u001b[0m\n",
            "\u001b[34mBuilding NVCC Device object /content/PolyNetwork_CppTools/Spike/Spike/Backend/CUDA/ActivityMonitor/RateActivityMonitor.cu\u001b[0m\n",
            "\u001b[34mBuilding NVCC Device object /content/PolyNetwork_CppTools/Spike/Spike/Backend/CUDA/Helpers/Memory.cu\u001b[0m\n",
            "\u001b[34mBuilding NVCC Device object /content/PolyNetwork_CppTools/Spike/Spike/Backend/CUDA/Helpers/RandomStateManager.cu\u001b[0m\n",
            "[  9%] \u001b[32mBuilding CXX object Spike/Build/Spike/CMakeFiles/SpikeDummy.dir/Backend/Dummy/ActivityMonitor/ActivityMonitor.cpp.o\u001b[0m\n",
            "[ 10%] \u001b[32mBuilding CXX object Spike/Build/Spike/CMakeFiles/SpikeDummy.dir/Backend/Dummy/ActivityMonitor/RateActivityMonitor.cpp.o\u001b[0m\n",
            "[ 11%] \u001b[32mBuilding CXX object Spike/Build/Spike/CMakeFiles/SpikeDummy.dir/Backend/Dummy/ActivityMonitor/SpikingActivityMonitor.cpp.o\u001b[0m\n",
            "[ 12%] \u001b[32mBuilding CXX object Spike/Build/Spike/CMakeFiles/SpikeDummy.dir/Backend/Dummy/Helpers/Memory.cpp.o\u001b[0m\n",
            "[ 14%] \u001b[34m\u001b[1mBuilding /content/PolyNetwork_CppTools/Spike/Spike/Backend/CUDA/Neurons/GeneratorInputSpikingNeurons.cu\u001b[0m\n",
            "\u001b[34mBuilding NVCC Device object /content/PolyNetwork_CppTools/Spike/Spike/Backend/CUDA/Neurons/GeneratorInputSpikingNeurons.cu\u001b[0m\n",
            "[ 15%] \u001b[32mBuilding CXX object Spike/Build/Spike/CMakeFiles/SpikeDummy.dir/Backend/Dummy/Helpers/RandomStateManager.cpp.o\u001b[0m\n",
            "[ 16%] \u001b[34m\u001b[1mBuilding /content/PolyNetwork_CppTools/Spike/Spike/Backend/CUDA/Neurons/ImagePoissonInputSpikingNeurons.cu\u001b[0m\n",
            "\u001b[34mBuilding NVCC Device object /content/PolyNetwork_CppTools/Spike/Spike/Backend/CUDA/Neurons/ImagePoissonInputSpikingNeurons.cu\u001b[0m\n",
            "[ 17%] \u001b[32mBuilding CXX object Spike/Build/Spike/CMakeFiles/SpikeDummy.dir/Backend/Dummy/Neurons/GeneratorInputSpikingNeurons.cpp.o\u001b[0m\n",
            "[ 18%] \u001b[32mBuilding CXX object Spike/Build/Spike/CMakeFiles/SpikeDummy.dir/Backend/Dummy/Neurons/ImagePoissonInputSpikingNeurons.cpp.o\u001b[0m\n",
            "[ 20%] \u001b[32mBuilding CXX object Spike/Build/Spike/CMakeFiles/SpikeDummy.dir/Backend/Dummy/Neurons/InputSpikingNeurons.cpp.o\u001b[0m\n",
            "[ 21%] \u001b[34m\u001b[1mBuilding /content/PolyNetwork_CppTools/Spike/Spike/Backend/CUDA/Neurons/InputSpikingNeurons.cu\u001b[0m\n",
            "\u001b[34mBuilding NVCC Device object /content/PolyNetwork_CppTools/Spike/Spike/Backend/CUDA/Neurons/InputSpikingNeurons.cu\u001b[0m\n",
            "[ 22%] \u001b[34m\u001b[1mBuilding /content/PolyNetwork_CppTools/Spike/Spike/Backend/CUDA/Neurons/LIFSpikingNeurons.cu\u001b[0m\n",
            "\u001b[34mBuilding NVCC Device object /content/PolyNetwork_CppTools/Spike/Spike/Backend/CUDA/Neurons/LIFSpikingNeurons.cu\u001b[0m\n",
            "[ 23%] \u001b[34m\u001b[1mBuilding /content/PolyNetwork_CppTools/Spike/Spike/Backend/CUDA/Neurons/Neurons.cu\u001b[0m\n",
            "\u001b[34mBuilding NVCC Device object /content/PolyNetwork_CppTools/Spike/Spike/Backend/CUDA/Neurons/Neurons.cu\u001b[0m\n",
            "[ 24%] \u001b[34m\u001b[1mBuilding /content/PolyNetwork_CppTools/Spike/Spike/Backend/CUDA/Neurons/PatternedPoissonInputSpikingNeurons.cu\u001b[0m\n",
            "\u001b[34mBuilding NVCC Device object /content/PolyNetwork_CppTools/Spike/Spike/Backend/CUDA/Neurons/PatternedPoissonInputSpikingNeurons.cu\u001b[0m\n",
            "[ 25%] \u001b[32mBuilding CXX object Spike/Build/Spike/CMakeFiles/SpikeDummy.dir/Backend/Dummy/Neurons/LIFSpikingNeurons.cpp.o\u001b[0m\n",
            "[ 27%] \u001b[32mBuilding CXX object Spike/Build/Spike/CMakeFiles/SpikeDummy.dir/Backend/Dummy/Neurons/Neurons.cpp.o\u001b[0m\n",
            "[ 28%] \u001b[32mBuilding CXX object Spike/Build/Spike/CMakeFiles/SpikeDummy.dir/Backend/Dummy/Neurons/PatternedPoissonInputSpikingNeurons.cpp.o\u001b[0m\n",
            "[ 29%] \u001b[32mBuilding CXX object Spike/Build/Spike/CMakeFiles/SpikeDummy.dir/Backend/Dummy/Neurons/PoissonInputSpikingNeurons.cpp.o\u001b[0m\n",
            "[ 30%] \u001b[32mBuilding CXX object Spike/Build/Spike/CMakeFiles/SpikeDummy.dir/Backend/Dummy/Neurons/SpikingNeurons.cpp.o\u001b[0m\n",
            "[ 31%] \u001b[32mBuilding CXX object Spike/Build/Spike/CMakeFiles/SpikeDummy.dir/Backend/Dummy/Plasticity/CustomSTDPPlasticity.cpp.o\u001b[0m\n",
            "[ 32%] \u001b[34m\u001b[1mBuilding /content/PolyNetwork_CppTools/Spike/Spike/Backend/CUDA/Neurons/PoissonInputSpikingNeurons.cu\u001b[0m\n",
            "\u001b[34mBuilding NVCC Device object /content/PolyNetwork_CppTools/Spike/Spike/Backend/CUDA/Neurons/PoissonInputSpikingNeurons.cu\u001b[0m\n",
            "[ 34%] \u001b[34m\u001b[1mBuilding /content/PolyNetwork_CppTools/Spike/Spike/Backend/CUDA/Neurons/SpikingNeurons.cu\u001b[0m\n",
            "\u001b[34mBuilding NVCC Device object /content/PolyNetwork_CppTools/Spike/Spike/Backend/CUDA/Neurons/SpikingNeurons.cu\u001b[0m\n",
            "[ 35%] \u001b[34m\u001b[1mBuilding /content/PolyNetwork_CppTools/Spike/Spike/Backend/CUDA/Plasticity/CustomSTDPPlasticity.cu\u001b[0m\n",
            "\u001b[34mBuilding NVCC Device object /content/PolyNetwork_CppTools/Spike/Spike/Backend/CUDA/Plasticity/CustomSTDPPlasticity.cu\u001b[0m\n",
            "[ 36%] \u001b[32mBuilding CXX object Spike/Build/Spike/CMakeFiles/SpikeDummy.dir/Backend/Dummy/Plasticity/EvansSTDPPlasticity.cpp.o\u001b[0m\n",
            "[ 37%] \u001b[32mBuilding CXX object Spike/Build/Spike/CMakeFiles/SpikeDummy.dir/Backend/Dummy/Plasticity/InhibitorySTDPPlasticity.cpp.o\u001b[0m\n",
            "[ 38%] \u001b[34m\u001b[1mBuilding /content/PolyNetwork_CppTools/Spike/Spike/Backend/CUDA/Plasticity/EvansSTDPPlasticity.cu\u001b[0m\n",
            "[ 40%] \u001b[32mBuilding CXX object Spike/Build/Spike/CMakeFiles/SpikeDummy.dir/Backend/Dummy/Plasticity/Plasticity.cpp.o\u001b[0m\n",
            "\u001b[34mBuilding NVCC Device object /content/PolyNetwork_CppTools/Spike/Spike/Backend/CUDA/Plasticity/EvansSTDPPlasticity.cu\u001b[0m\n",
            "[ 41%] \u001b[32mBuilding CXX object Spike/Build/Spike/CMakeFiles/SpikeDummy.dir/Backend/Dummy/Plasticity/STDPPlasticity.cpp.o\u001b[0m\n",
            "[ 42%] \u001b[34m\u001b[1mBuilding /content/PolyNetwork_CppTools/Spike/Spike/Backend/CUDA/Plasticity/InhibitorySTDPPlasticity.cu\u001b[0m\n",
            "\u001b[34mBuilding NVCC Device object /content/PolyNetwork_CppTools/Spike/Spike/Backend/CUDA/Plasticity/InhibitorySTDPPlasticity.cu\u001b[0m\n",
            "[ 43%] \u001b[34m\u001b[1mBuilding /content/PolyNetwork_CppTools/Spike/Spike/Backend/CUDA/Plasticity/Plasticity.cu\u001b[0m\n",
            "\u001b[34mBuilding NVCC Device object /content/PolyNetwork_CppTools/Spike/Spike/Backend/CUDA/Plasticity/Plasticity.cu\u001b[0m\n",
            "[ 44%] \u001b[32mBuilding CXX object Spike/Build/Spike/CMakeFiles/SpikeDummy.dir/Backend/Dummy/Plasticity/WeightDependentSTDPPlasticity.cpp.o\u001b[0m\n",
            "[ 45%] \u001b[32mBuilding CXX object Spike/Build/Spike/CMakeFiles/SpikeDummy.dir/Backend/Dummy/Plasticity/WeightNormSTDPPlasticity.cpp.o\u001b[0m\n",
            "[ 47%] \u001b[32mBuilding CXX object Spike/Build/Spike/CMakeFiles/SpikeDummy.dir/Backend/Dummy/Synapses/ConductanceSpikingSynapses.cpp.o\u001b[0m\n",
            "[ 48%] \u001b[32mBuilding CXX object Spike/Build/Spike/CMakeFiles/SpikeDummy.dir/Backend/Dummy/Synapses/CurrentSpikingSynapses.cpp.o\u001b[0m\n",
            "[ 49%] \u001b[34m\u001b[1mBuilding /content/PolyNetwork_CppTools/Spike/Spike/Backend/CUDA/Plasticity/STDPPlasticity.cu\u001b[0m\n",
            "\u001b[34mBuilding NVCC Device object /content/PolyNetwork_CppTools/Spike/Spike/Backend/CUDA/Plasticity/STDPPlasticity.cu\u001b[0m\n",
            "[ 50%] \u001b[32mBuilding CXX object Spike/Build/Spike/CMakeFiles/SpikeDummy.dir/Backend/Dummy/Synapses/SpikingSynapses.cpp.o\u001b[0m\n",
            "[ 51%] \u001b[32mBuilding CXX object Spike/Build/Spike/CMakeFiles/SpikeDummy.dir/Backend/Dummy/Synapses/Synapses.cpp.o\u001b[0m\n",
            "[ 52%] \u001b[34m\u001b[1mBuilding /content/PolyNetwork_CppTools/Spike/Spike/Backend/CUDA/Plasticity/WeightDependentSTDPPlasticity.cu\u001b[0m\n",
            "\u001b[34mBuilding NVCC Device object /content/PolyNetwork_CppTools/Spike/Spike/Backend/CUDA/Plasticity/WeightDependentSTDPPlasticity.cu\u001b[0m\n",
            "[ 54%] \u001b[34m\u001b[1mBuilding /content/PolyNetwork_CppTools/Spike/Spike/Backend/CUDA/Plasticity/WeightNormSTDPPlasticity.cu\u001b[0m\n",
            "\u001b[34mBuilding NVCC Device object /content/PolyNetwork_CppTools/Spike/Spike/Backend/CUDA/Plasticity/WeightNormSTDPPlasticity.cu\u001b[0m\n",
            "[ 55%] \u001b[32mBuilding CXX object Spike/Build/Spike/CMakeFiles/SpikeDummy.dir/Backend/Dummy/Synapses/VoltageSpikingSynapses.cpp.o\u001b[0m\n"
          ],
          "name": "stdout"
        }
      ]
    },
    {
      "metadata": {
        "id": "L7JQZwSM13XL",
        "colab_type": "code",
        "colab": {}
      },
      "cell_type": "code",
      "source": [
        "import numpy as np\n",
        "import pandas as pd #Pandas has multiple functions, including providing 'data_frame' objects that can be used for visualizing and analyzing data\n",
        "from matplotlib import pyplot as plt\n",
        "\n",
        "%matplotlib inline \n",
        "# 'percentage sign' matplotlib is a 'magic function' in Colab that enables the outputs of matplotlib to the command line, including figures"
      ],
      "execution_count": 0,
      "outputs": []
    },
    {
      "metadata": {
        "id": "od19zi8jcbqN",
        "colab_type": "text"
      },
      "cell_type": "markdown",
      "source": [
        "## Import Stimuli & Synaptic Data"
      ]
    },
    {
      "metadata": {
        "id": "uDslXeSp493q",
        "colab_type": "text"
      },
      "cell_type": "markdown",
      "source": [
        "Clean up any old connectivity data files."
      ]
    },
    {
      "metadata": {
        "id": "lJqxCwTtePjS",
        "colab_type": "code",
        "colab": {}
      },
      "cell_type": "code",
      "source": [
        "!rm *.syn"
      ],
      "execution_count": 0,
      "outputs": []
    },
    {
      "metadata": {
        "id": "eCgv0sJbeSN8",
        "colab_type": "code",
        "colab": {}
      },
      "cell_type": "code",
      "source": [
        "ls"
      ],
      "execution_count": 0,
      "outputs": []
    },
    {
      "metadata": {
        "id": "-osBJxUB-Vzq",
        "colab_type": "text"
      },
      "cell_type": "markdown",
      "source": [
        "Automatic import method"
      ]
    },
    {
      "metadata": {
        "id": "LDKZLekKHyzk",
        "colab_type": "code",
        "colab": {}
      },
      "cell_type": "code",
      "source": [
        "# !wget https://www.dropbox.com/s/t9cdjalcf7aqt0y/Connectivity_Data.syn"
      ],
      "execution_count": 0,
      "outputs": []
    },
    {
      "metadata": {
        "id": "uYwh-iXjHt3t",
        "colab_type": "text"
      },
      "cell_type": "markdown",
      "source": [
        "Manual import method"
      ]
    },
    {
      "metadata": {
        "id": "s3yReSXVuF_A",
        "colab_type": "code",
        "outputId": "639454b3-8ed4-416e-b456-be821bdedd33",
        "colab": {
          "resources": {
            "http://localhost:8080/nbextensions/google.colab/files.js": {
              "data": "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",
              "ok": true,
              "headers": [
                [
                  "content-type",
                  "application/javascript"
                ]
              ],
              "status": 200,
              "status_text": ""
            }
          },
          "base_uri": "https://localhost:8080/",
          "height": 104
        }
      },
      "cell_type": "code",
      "source": [
        "from google.colab import files\n",
        "\n",
        "uploaded = files.upload()"
      ],
      "execution_count": 0,
      "outputs": [
        {
          "output_type": "display_data",
          "data": {
            "text/html": [
              "\n",
              "     <input type=\"file\" id=\"files-724a215c-5230-4cc9-a9b0-d9c3f55ae6dd\" name=\"files[]\" multiple disabled />\n",
              "     <output id=\"result-724a215c-5230-4cc9-a9b0-d9c3f55ae6dd\">\n",
              "      Upload widget is only available when the cell has been executed in the\n",
              "      current browser session. Please rerun this cell to enable.\n",
              "      </output>\n",
              "      <script src=\"/nbextensions/google.colab/files.js\"></script> "
            ],
            "text/plain": [
              "<IPython.core.display.HTML object>"
            ]
          },
          "metadata": {
            "tags": []
          }
        },
        {
          "output_type": "stream",
          "text": [
            "Saving Connectivity_Data_ff_200_clean.syn to Connectivity_Data_ff_200_clean.syn\n",
            "Saving Connectivity_Data_ff_200_corrupt.syn to Connectivity_Data_ff_200_corrupt.syn\n"
          ],
          "name": "stdout"
        }
      ]
    },
    {
      "metadata": {
        "id": "lw6tUAf48-53",
        "colab_type": "text"
      },
      "cell_type": "markdown",
      "source": [
        "# Network Creation and Execution"
      ]
    },
    {
      "metadata": {
        "id": "1mCv2w8X6SlK",
        "colab_type": "text"
      },
      "cell_type": "markdown",
      "source": [
        "## Edit and Compile LeadholmBinding.cpp"
      ]
    },
    {
      "metadata": {
        "id": "JtXBL2B9o_Wk",
        "colab_type": "text"
      },
      "cell_type": "markdown",
      "source": [
        "Over-write the LeadholmBinding.cpp file with the desired code. All code must be inserted below the ''%%writefile Sandbox.cpp' line"
      ]
    },
    {
      "metadata": {
        "id": "KUIvoIYrZWP5",
        "colab_type": "code",
        "outputId": "ea971fd5-1cdd-4731-9ae2-c4b05df5ee21",
        "colab": {
          "base_uri": "https://localhost:8080/",
          "height": 34
        }
      },
      "cell_type": "code",
      "source": [
        "%%writefile LeadholmBinding.cpp\n",
        "\n",
        "\n",
        "\n",
        "#include \"Spike/Spike.hpp\"\n",
        "#include \"UtilityFunctionsLeadholm.hpp\"\n",
        "#include <array>\n",
        "#include <iostream>\n",
        "#include <cstring>\n",
        "#include <string>\n",
        "\n",
        "\n",
        "// Network with 5x5 neurons in each layer\n",
        "// If unable to get interesting activity, then can make the most trivial case of literally two \n",
        "// parallel networks with no interactivity (as a proxy for winner-take-all connectivity)\n",
        "// Inhibitory population is the same size as the excitatory population\n",
        "// Start actually with Gaussian connectivity and SOMO like architecture to see if possible\n",
        "// Can later use all-to-all connectivity if necessary-\n",
        "\n",
        "\n",
        "// Things to add:\n",
        "// Background neurons inputting to all layers to prevent dead neurons following plasticity changes\n",
        "// *** need to check in the future this isn't cause some odd correlated activity by each \n",
        "// background neuron simultaneously activating neurons in multiple layers etc. ***\n",
        "\n",
        "// The function which will autorun when the executable is created\n",
        "int main (int argc, char *argv[]){\n",
        "\n",
        "  /*\n",
        "      CHOOSE THE COMPONENTS OF YOUR SIMULATION\n",
        "  */\n",
        "\n",
        "  // Create an instance of the Model\n",
        "  SpikingModel* BinaryModel = new SpikingModel();\n",
        "  /* Explanation of above notation:\n",
        "    BinaryModel is intiliazed as a pointer to an object of class SpikingModel\n",
        "    The 'new' operator is essentially the C++ equivalent of 'malloc' allocates memory for the un-named object, and returns the pointer to this object,\n",
        "    or if it is an array, the first element. The memory allocation performed by new is with 'dynamic storage duration', such that the lifetime of the \n",
        "    object isn't limited to the scope in which it was created. This is also known as allocating memory to the 'heap' (as opposed to the stack)\n",
        "    and as such memory *de*-allocation is critical in order to prevent a memory leak/'garbage' building up\n",
        "  */\n",
        "\n",
        "  //Simulation parameters; these can be relatively easily adjusted to observe the affect on the network\n",
        "  int training_epochs = 5; // Number of epochs to have STDP active\n",
        "  int display_epochs = 5; // Number of epochs where the each stimulus is presented with STDP inactive\n",
        "  float exc_inh_weight_ratio = 6.0; //parameter that determines how much stronger inhibitory synapses are than excitatory synapses\n",
        "  int background_firing_rate = 20; //approximate firing rate of noisy neurons feeding into all layers, and preventing dead neurons\n",
        "  \n",
        "  // Initialize core model parameters\n",
        "  int x_dim = 5;\n",
        "  int y_dim = 5;\n",
        "  int num_images = 2; \n",
        "  int input_firing_rate = 20; //approximate firing rate of input stimuli; note multiplier used later to generate actual stimuli\n",
        "  float competitive_connection_prob = 0.75; // Probability parameter that controls how the two competing halves of the network are connected\n",
        "  float timestep = 0.0001;  // In seconds\n",
        "  float lower_weight_limit = 0.01;\n",
        "  float upper_weight_limit = 0.1;\n",
        "  BinaryModel->SetTimestep(timestep);\n",
        "\n",
        "  // Choose an input neuron type\n",
        "  PatternedPoissonInputSpikingNeurons* patterned_poisson_input_neurons = new PatternedPoissonInputSpikingNeurons();\n",
        "  // Choose the neuron type\n",
        "  LIFSpikingNeurons* lif_spiking_neurons = new LIFSpikingNeurons();\n",
        "  // Choose the synapse type\n",
        "  ConductanceSpikingSynapses * conductance_spiking_synapses = new ConductanceSpikingSynapses();\n",
        "\n",
        "  // Allocate your chosen components to the simulator\n",
        "  BinaryModel->input_spiking_neurons = patterned_poisson_input_neurons;\n",
        "  BinaryModel->spiking_neurons = lif_spiking_neurons;\n",
        "  BinaryModel->spiking_synapses = conductance_spiking_synapses;\n",
        "\n",
        "  // *** Allocate chosen plasticity rule\n",
        "  custom_stdp_plasticity_parameters_struct * Excit_STDP_PARAMS = new custom_stdp_plasticity_parameters_struct;\n",
        "  Excit_STDP_PARAMS->a_plus = (upper_weight_limit + lower_weight_limit)/2; //Set to the mean of the excitatory weight distribution\n",
        "  Excit_STDP_PARAMS->a_minus = 1.0f;\n",
        "  Excit_STDP_PARAMS->tau_plus = 0.01f;\n",
        "  Excit_STDP_PARAMS->tau_minus = 0.01f;\n",
        "  Excit_STDP_PARAMS->learning_rate = 0.001f;\n",
        "  Excit_STDP_PARAMS->a_star = 0; //Excit_STDP_PARAMS->a_plus * Excit_STDP_PARAMS->tau_minus * Inhib_STDP_PARAMS->targetrate;\n",
        "\n",
        "  CustomSTDPPlasticity * excitatory_stdp = new CustomSTDPPlasticity((SpikingSynapses *) conductance_spiking_synapses, (SpikingNeurons *) lif_spiking_neurons, (SpikingNeurons *) patterned_poisson_input_neurons, (stdp_plasticity_parameters_struct *) Excit_STDP_PARAMS);  \n",
        "  \n",
        "  BinaryModel->AddPlasticityRule(excitatory_stdp);\n",
        "\n",
        "  /*\n",
        "      ADD ANY ACTIVITY MONITORS\n",
        "  */\n",
        "  SpikingActivityMonitor* spike_monitor_main = new SpikingActivityMonitor(lif_spiking_neurons);\n",
        "  BinaryModel->AddActivityMonitor(spike_monitor_main);\n",
        "  // Add activity monitor for poisson input neurons\n",
        "  SpikingActivityMonitor* spike_monitor_input = new SpikingActivityMonitor(patterned_poisson_input_neurons);\n",
        "  BinaryModel->AddActivityMonitor(spike_monitor_input);\n",
        "\n",
        "\n",
        "  // SETTING UP INPUT NEURONS\n",
        "\n",
        "  std::cout << \"\\n\\n.......\\nCreating network neuron groups...\\n.......\\n\\n\";\n",
        "  \n",
        "  // Creating an input neuron parameter structure\n",
        "  // Initialize a 2D vector to store the neuron group IDs of each excitatory layer, including the input as the 0th layer\n",
        "  // Note however this vector will not include the background activity neuron group\n",
        "  std::vector<std::vector<int>> neuron_params_vec;\n",
        "\n",
        "  // Note the first dimension corresponds to the layer, indexed from 0, corresponding to the input neurons\n",
        "  // The second dimension corresponds to the 'left' or 'right' side of the network, indexed by 0 and 1 respectively\n",
        "\n",
        "  patterned_poisson_input_spiking_neuron_parameters_struct* neuron_params_0_0 = new patterned_poisson_input_spiking_neuron_parameters_struct();\n",
        "  neuron_params_0_0->group_shape[0] = x_dim;    // x-dimension of the input neuron layer\n",
        "  neuron_params_0_0->group_shape[1] = y_dim;   // y-dimension of the input neuron layer\n",
        "  neuron_params_vec.push_back(std::vector<int>());\n",
        "  neuron_params_vec[0].push_back(BinaryModel->AddInputNeuronGroup(neuron_params_0_0));\n",
        "\n",
        "  patterned_poisson_input_spiking_neuron_parameters_struct* neuron_params_0_1 = new patterned_poisson_input_spiking_neuron_parameters_struct();\n",
        "  neuron_params_0_1->group_shape[0] = x_dim;    // x-dimension of the input neuron layer\n",
        "  neuron_params_0_1->group_shape[1] = y_dim;   // y-dimension of the input neuron layer\n",
        "  neuron_params_vec[0].push_back(BinaryModel->AddInputNeuronGroup(neuron_params_0_1));\n",
        "\n",
        "  // Set-up background noise neurons; these ensure no 'dead' neurons following plasticity by guarenteeing a random input to every neuron\n",
        "  patterned_poisson_input_spiking_neuron_parameters_struct* back_input_neuron_params = new patterned_poisson_input_spiking_neuron_parameters_struct();\n",
        "  back_input_neuron_params->group_shape[0] = x_dim;    // x-dimension of the input neuron layer\n",
        "  back_input_neuron_params->group_shape[1] = y_dim;   // y-dimension of the input neuron layer\n",
        "  int back_input_layer_ID = BinaryModel->AddInputNeuronGroup(back_input_neuron_params);\n",
        "\n",
        "  int total_number_of_input_neurons = (neuron_params_0_0->group_shape[0]*neuron_params_0_0->group_shape[1] \n",
        "    + neuron_params_0_1->group_shape[0]*neuron_params_0_1->group_shape[1] \n",
        "    + back_input_neuron_params->group_shape[0]*back_input_neuron_params->group_shape[1]);\n",
        "\n",
        "  // SETTING UP NEURON GROUPS\n",
        "  lif_spiking_neuron_parameters_struct * excitatory_population_params = new lif_spiking_neuron_parameters_struct();\n",
        "  excitatory_population_params->group_shape[0] = x_dim;\n",
        "  excitatory_population_params->group_shape[1] = y_dim;\n",
        "  excitatory_population_params->resting_potential_v0 = -0.06f;\n",
        "  excitatory_population_params->absolute_refractory_period = 0.002f;\n",
        "  excitatory_population_params->threshold_for_action_potential_spike = -0.05f;\n",
        "  excitatory_population_params->somatic_capacitance_Cm = 200.0*pow(10, -12);\n",
        "  excitatory_population_params->somatic_leakage_conductance_g0 = 10.0*pow(10, -9);\n",
        "\n",
        "  std::cout << \"New layer ID is \" << neuron_params_vec[0][0] << \"\\n\";\n",
        "  std::cout << \"New layer ID is \" << neuron_params_vec[0][1] << \"\\n\";\n",
        "\n",
        "  // Iteratively create all the additional layers of excitatory neurons, storing their IDs in a 2D vector-of-a-vector\n",
        "  // Note the input neurons are the 0th layer, specified earlier\n",
        "  for (int ii = 1; ii < 2; ii++){\n",
        "    // As neuron_params_vec is a vector-of-a-vector without a defined size, need to add an element to the base vector\n",
        "    neuron_params_vec.push_back(std::vector<int>());\n",
        "    for (int jj = 0; jj < 1; jj++){ // Iterate through the left and right hand sides of each layer\n",
        "      //Add an element to the inner vector, and assign the desired value\n",
        "      neuron_params_vec[ii].push_back(BinaryModel->AddNeuronGroup(excitatory_population_params));\n",
        "      std::cout << \"New layer ID is \" << neuron_params_vec[ii][jj] << \"\\n\";\n",
        "    }\n",
        "  }\n",
        "\n",
        "\n",
        "  // SETTING UP SYNAPSES\n",
        "\n",
        "  std::cout << \"\\n\\n.......\\nBuilding feed-forward connectivity...\\n.......\\n\\n\";\n",
        "\n",
        "  // FEED-FORWARD CONNECTIONS\n",
        "  // Create vector-of-a-vector-of-a-vector to store the synapse structure for feed-forward connections\n",
        "  // Note the type is actually specified as the synapses parameter structure during the vector initialization\n",
        "  // The first dimension corresponds to the layer, the second to the source layer side (left or right), and the receiving layer side (left or right)\n",
        "  std::vector<std::vector<std::vector<conductance_spiking_synapse_parameters_struct*>>> ff_synapse_params_vec;\n",
        "\n",
        "  //Create the feed-forward synapses for from the input neurons to the first layer, for the left hand side source, with left hand projections\n",
        "  ff_synapse_params_vec.push_back(std::vector<std::vector<conductance_spiking_synapse_parameters_struct*>>());\n",
        "  ff_synapse_params_vec[0].push_back(std::vector<conductance_spiking_synapse_parameters_struct*>());\n",
        "  ff_synapse_params_vec[0][0].push_back(new conductance_spiking_synapse_parameters_struct());\n",
        "  ff_synapse_params_vec[0][0][0]->weight_scaling_constant = excitatory_population_params->somatic_leakage_conductance_g0;\n",
        "  ff_synapse_params_vec[0][0][0]->delay_range[0] = 10.0*timestep;\n",
        "  ff_synapse_params_vec[0][0][0]->delay_range[1] = 10.0*timestep; //NB that as the delays will be set later from loaded files, these values are arbitrary, albeit required by Spike\n",
        "  ff_synapse_params_vec[0][0][0]->decay_term_tau_g = 0.0017f;  // Seconds (Conductance Parameter)\n",
        "  ff_synapse_params_vec[0][0][0]->reversal_potential_Vhat = 0.0*pow(10.0, -3);\n",
        "  ff_synapse_params_vec[0][0][0]->connectivity_type = CONNECTIVITY_TYPE_PAIRWISE;\n",
        "  ff_synapse_params_vec[0][0][0]->plasticity_vec.push_back(excitatory_stdp);\n",
        "\n",
        "\n",
        "  //Create the above two equivalents, but for the right hand side of the source\n",
        "  ff_synapse_params_vec[0].push_back(std::vector<conductance_spiking_synapse_parameters_struct*>());\n",
        "  ff_synapse_params_vec[0][1].push_back(new conductance_spiking_synapse_parameters_struct());\n",
        "  std::memcpy(ff_synapse_params_vec[0][1][0], ff_synapse_params_vec[0][0][0], sizeof(* ff_synapse_params_vec[0][0][0])); //Left hand projections\n",
        "\n",
        "  connect_from_python(neuron_params_vec[0][0],\n",
        "          neuron_params_vec[1][0],\n",
        "          ff_synapse_params_vec[0][0][0],\n",
        "          (\"Connectivity_Data_ff_200_clean.syn\"),\n",
        "          BinaryModel);\n",
        "\n",
        "  connect_from_python(neuron_params_vec[0][1],\n",
        "          neuron_params_vec[1][0],\n",
        "          ff_synapse_params_vec[0][1][0],\n",
        "          (\"Connectivity_Data_ff_200_clean.syn\"),\n",
        "          BinaryModel);\n",
        "\n",
        "  // connect_from_python(neuron_params_vec[0][1],\n",
        "  //         neuron_params_vec[1][0],\n",
        "  //         ff_synapse_params_vec[0][1][0],\n",
        "  //         (\"Connectivity_Data_ff_200_corrupt.syn\"),\n",
        "  //         BinaryModel);\n",
        "\n",
        "\n",
        "  // //Check all connectivity data has been assigned to parameter structures as expected by printing to screen\n",
        "  // for (int ii = 0; ii < 4; ii++){ // Iterate through the layers\n",
        "  //   for (int jj = 0; jj < 2; jj++){ // Iterate through the left and right hand sides of each layer sending the connections\n",
        "  //     for (int kk = 0; kk < 2; kk++){ // Iterate through the left and right hand sides of each layer sending the connections\n",
        "  //         for (int ll = 100; ll < 105; ll++){\n",
        "  //           printf(\"Pre ID %d, post ID %d, weight %f, delay %f\\n\", ff_synapse_params_vec[ii][jj][kk]->pairwise_connect_presynaptic[ll],\n",
        "  //             ff_synapse_params_vec[ii][jj][kk]->pairwise_connect_postsynaptic[ll],\n",
        "  //             ff_synapse_params_vec[ii][jj][kk]->pairwise_connect_weight[ll],\n",
        "  //             ff_synapse_params_vec[ii][jj][kk]->pairwise_connect_delay[ll]);\n",
        "  //       }\n",
        "  //     }\n",
        "  //   }\n",
        "  // }\n",
        "\n",
        "  std::cout << \"\\n\\n.......\\nBuilding lateral connectivity...\\n.......\\n\\n\";\n",
        "\n",
        "\n",
        "\n",
        "  // BACKGROUND CONNECTIONS\n",
        "  //Create synapses for the background noise input to all other neurons\n",
        "  conductance_spiking_synapse_parameters_struct * back_input_to_all = new conductance_spiking_synapse_parameters_struct();\n",
        "  back_input_to_all->weight_range[0] = lower_weight_limit;   // Create uniform distributions of weights between the upper and lower bound\n",
        "  back_input_to_all->weight_range[1] = upper_weight_limit; //NB the weight range is simply the initialization\n",
        "  back_input_to_all->weight_scaling_constant = excitatory_population_params->somatic_leakage_conductance_g0;\n",
        "  back_input_to_all->delay_range[0] = 10.0*timestep;\n",
        "  back_input_to_all->delay_range[1] = 100.0*timestep;\n",
        "  back_input_to_all->decay_term_tau_g = 0.0017f;  // Seconds (Conductance Parameter)\n",
        "  back_input_to_all->reversal_potential_Vhat = 0.0*pow(10.0, -3);\n",
        "  back_input_to_all->connectivity_type = CONNECTIVITY_TYPE_ALL_TO_ALL;\n",
        "\n",
        "  // Iteratively create the background input synapses\n",
        "  for (int ii = 0; ii < 1; ii++){ // Iterate through the layers\n",
        "    for (int jj = 0; jj < 1; jj++){ // Iterate through the left and right hand sides of each layer\n",
        "      //Note the first (input) layers are skipped, and each side of each layer only needs to receive one connection\n",
        "      BinaryModel->AddSynapseGroup(back_input_layer_ID, neuron_params_vec[ii+1][jj], back_input_to_all);\n",
        "      //std::cout << \"\\n\\nBackground input neurons are sending to group ID \" << neuron_params_vec[ii+1][jj] << \"\\n\";\n",
        "    }\n",
        "  }\n",
        "\n",
        "  std::cout << \"\\n\\n.......\\nAll synapses created...\\n.......\\n\\n\";\n",
        "\n",
        "  /*\n",
        "      ADD INPUT STIMULI TO THE PATTERNED POISSON NEURONS CLASS\n",
        "  */\n",
        "\n",
        "  std::cout << \"\\n\\n.......\\nAssigning stimuli to the network...\\n.......\\n\\n\";\n",
        "\n",
        "  //Initialize array for input firing rates; note that althought it is a 2D input in the model, this is represented in Spike as a 1D array\n",
        "  int total_input_size = (x_dim * y_dim * num_images * 2);\n",
        "  std::vector<float> input_rates(total_input_size, 1.0); //Initializes an array of ones\n",
        "\n",
        "  //Set the first and last section of input_rates to values such that they will be the 'on' stimuli (note the zero's and one's are inverted later)\n",
        "  for (int ii = 0; ii < (x_dim * y_dim); ++ii){\n",
        "    input_rates[ii] = 0.0f;\n",
        "  }\n",
        "  for (int jj = (x_dim * y_dim * 3); jj < (x_dim * y_dim * 4); ++jj){\n",
        "    input_rates[jj] = 0.0f;\n",
        "  }\n",
        "\n",
        "  //Uncomment the following section to test that firing rates for each stimulus have maintained their 2D structure by printing to screen\n",
        "  for (int ii = 0; ii < num_images; ++ii){\n",
        "    std::cout << \"\\n\\n\\n\\n*** Stimulus \" << (ii+1) << \"***\\n\\n\";\n",
        "    //Iterate through each row\n",
        "    for (int jj = 0; jj < y_dim*2; ++jj){\n",
        "      //Iterate through each column in a row\n",
        "      for (int kk = 0; kk < x_dim; ++kk){\n",
        "        std::cout << input_rates[(2 * ii * x_dim * y_dim) + jj*y_dim + kk];\n",
        "      }\n",
        "      std::cout << \"\\n\";\n",
        "    }\n",
        "  }\n",
        "  \n",
        "\n",
        "  //Invert firing rate values (i.e. 0's and 1's) so that stimuli are the active neurons, and multiply by baseline firing rate\n",
        "  for (int ii = 0; ii < total_input_size; ++ii){\n",
        "    input_rates[ii] = ((input_rates[ii] - 1.10) * -1) * input_firing_rate; //Results in a stimuli firing rate that is 1.10*baseline, and a background firing rate that is 0.1*baseline\n",
        "  }\n",
        "\n",
        "\n",
        "  /*** Assign firing rates to stimuli ***/\n",
        "\n",
        "  //Initialize an array of integers to hold the stimulus ID values\n",
        "  int stimuli_array[num_images];\n",
        "  //Initialize a temporary array for holding stimulus firing rates\n",
        "  float temp_stimulus_array[total_number_of_input_neurons]; //\n",
        "\n",
        "  //Iterate through each image/stimulus\n",
        "  for (int ii = 0; ii < num_images; ++ii){\n",
        "    //Iterate through each image's firing rates and assign to a temporary array\n",
        "    for (int jj = 0; jj < (2*x_dim*y_dim); jj++){\n",
        "      temp_stimulus_array[jj] = input_rates[(2 * ii * x_dim * y_dim) + jj];\n",
        "    }\n",
        "\n",
        "    // Add the firing rate of the background neurons that input to all others\n",
        "    for (int kk = (2*x_dim*y_dim); kk < total_number_of_input_neurons; kk++){\n",
        "      temp_stimulus_array[kk] = background_firing_rate;\n",
        "    }\n",
        "    stimuli_array[ii] = patterned_poisson_input_neurons->add_stimulus(temp_stimulus_array, total_number_of_input_neurons);\n",
        "  }\n",
        "\n",
        "\n",
        "  BinaryModel->finalise_model();\n",
        "  float simtime = 0.2f; //This should be long enough to allow any recursive signalling to finish propagating\n",
        "\n",
        "  std::cout << \"\\n\\n.......\\nModel finalized and ready for simulating...\\n.......\\n\\n\";\n",
        "\n",
        "  \n",
        "  //    RUN THE SIMULATION WITH TRAINING\n",
        "  \n",
        "  BinaryModel->spiking_synapses->save_weights_as_binary(\"./\", \"Initial_Sandbox_Network\");\n",
        "\n",
        "  // Loop through a certain number of epoch's of presentation\n",
        "  for (int ii = 0; ii < training_epochs; ++ii) {\n",
        "    // Within each epoch, loop through each stimulus \n",
        "    //*** Eventually this order should probably be randomized ***\n",
        "    for (int jj = 0; jj < num_images; ++jj){\n",
        "      BinaryModel->reset_state(); //Re-set the activity of the network, but not e.g. weights and connectivity\n",
        "      patterned_poisson_input_neurons->select_stimulus(stimuli_array[jj]);\n",
        "      BinaryModel->run(simtime, 1); //the second argument is a boolean determining if STDP is on or off\n",
        "    }\n",
        "    //Save a snapshot of the model's current weights to enable looking for convergence \n",
        "    BinaryModel->spiking_synapses->save_weights_as_binary(\"./\", \"Epoch\" + std::to_string(ii) + \"Sandbox_Network\");\n",
        "\n",
        "  }\n",
        "\n",
        "\n",
        "  spike_monitor_main->reset_state(); //Dumps all recorded spikes\n",
        "  spike_monitor_input->reset_state();\n",
        "  BinaryModel->reset_time(); //Resets the internal clock to 0\n",
        "\n",
        "  /*\n",
        "      RUN THE SIMULATION AFTER TRAINING WITH FIRST STIMULUS\n",
        "  */\n",
        "\n",
        "  // Loop through a certain number of epoch's of presentation\n",
        "  for (int ii = 0; ii < display_epochs; ++ii) {\n",
        "\n",
        "    BinaryModel->reset_state(); //Re-set the activity of the network, but not e.g. weights and connectivity\n",
        "    patterned_poisson_input_neurons->select_stimulus(stimuli_array[0]);\n",
        "    BinaryModel->run(simtime, 0); //the second argument is a boolean determining if STDP is on or off\n",
        "\n",
        "  }\n",
        "\n",
        "  spike_monitor_main->save_spikes_as_binary(\"./\", \"output_spikes_posttraining_stim1\");\n",
        "  spike_monitor_main->save_spikes_as_txt(\"./\", \"output_spikes_posttraining_stim1\");\n",
        "  \n",
        "  spike_monitor_input->save_spikes_as_binary(\"./\", \"input_Poisson_stim1\");\n",
        "\n",
        "\n",
        "  spike_monitor_main->reset_state(); //Dumps all recorded spikes\n",
        "  spike_monitor_input->reset_state();\n",
        "  BinaryModel->reset_time(); //Resets the internal clock to 0\n",
        "\n",
        "  /*\n",
        "      RUN THE SIMULATION AFTER TRAINING WITH SECOND STIMULUS\n",
        "  */\n",
        "\n",
        "  // Loop through a certain number of epoch's of presentation\n",
        "  for (int ii = 0; ii < display_epochs; ++ii) {\n",
        "\n",
        "    BinaryModel->reset_state(); //Re-set the activity of the network, but not e.g. weights and connectivity\n",
        "    patterned_poisson_input_neurons->select_stimulus(stimuli_array[1]);\n",
        "    BinaryModel->run(simtime, 0); \n",
        "\n",
        "  }\n",
        "\n",
        "  spike_monitor_main->save_spikes_as_binary(\"./\", \"output_spikes_posttraining_stim2\");\n",
        "  spike_monitor_main->save_spikes_as_txt(\"./\", \"output_spikes_posttraining_stim2\");\n",
        "\n",
        "  spike_monitor_input->save_spikes_as_binary(\"./\", \"input_Poisson_stim2\");\n",
        "  BinaryModel->spiking_synapses->save_weights_as_binary(\"./\", \"Sandbox_Network\");\n",
        "  BinaryModel->spiking_synapses->save_connectivity_as_binary(\"./\", \"Sandbox_Network\");\n",
        "\n",
        "\n",
        "  return 0;\n",
        "}"
      ],
      "execution_count": 0,
      "outputs": [
        {
          "output_type": "stream",
          "text": [
            "Overwriting LeadholmBinding.cpp\n"
          ],
          "name": "stdout"
        }
      ]
    },
    {
      "metadata": {
        "id": "K57wPkqqZwq6",
        "colab_type": "code",
        "outputId": "e51e25c5-bc56-450f-a18e-9fa4b6e17170",
        "colab": {
          "base_uri": "https://localhost:8080/",
          "height": 289
        }
      },
      "cell_type": "code",
      "source": [
        "!make LeadholmBinding #Recompile the edited Sandbox.cpp file"
      ],
      "execution_count": 0,
      "outputs": [
        {
          "output_type": "stream",
          "text": [
            "[ 30%] Built target SpikeDummy\n",
            "[ 31%] \u001b[34m\u001b[1mLinking SpikeCUDA\u001b[0m\n",
            "\u001b[31mLinking CXX executable SpikeCUDA\u001b[0m\n",
            "nvlink warning : Function '_ZN7Backend4CUDA44conductance_spiking_current_injection_kernelEPNS0_28spiking_synapses_data_structEPNS0_27spiking_neurons_data_structEffjfii' has address taken but no possible call to it\n",
            "nvlink warning : Function '_ZN7Backend4CUDA40current_spiking_current_injection_kernelEPNS0_28spiking_synapses_data_structEPNS0_27spiking_neurons_data_structEffjfii' has address taken but no possible call to it\n",
            "nvlink warning : Function '_ZN7Backend4CUDA32spiking_current_injection_kernelEPNS0_28spiking_synapses_data_structEPNS0_27spiking_neurons_data_structEffjfii' has address taken but no possible call to it\n",
            "nvlink warning : Function '_ZN7Backend4CUDA19get_active_synapsesEPNS0_28spiking_synapses_data_structEPNS0_27spiking_neurons_data_structEiiib' has address taken but no possible call to it\n",
            "nvlink warning : Function '_ZN7Backend4CUDA40voltage_spiking_current_injection_kernelEPNS0_28spiking_synapses_data_structEPNS0_27spiking_neurons_data_structEffjfii' has address taken but no possible call to it\n",
            "[ 62%] Built target SpikeCUDA\n",
            "[ 63%] \u001b[32m\u001b[1mLinking CXX shared library libSpike.so\u001b[0m\n",
            "[ 97%] Built target Spike\n",
            "\u001b[35m\u001b[1mScanning dependencies of target LeadholmBinding\u001b[0m\n",
            "[ 98%] \u001b[32mBuilding CXX object CMakeFiles/LeadholmBinding.dir/LeadholmBinding.cpp.o\u001b[0m\n",
            "[100%] \u001b[32m\u001b[1mLinking CXX executable LeadholmBinding\u001b[0m\n",
            "[100%] Built target LeadholmBinding\n"
          ],
          "name": "stdout"
        }
      ]
    },
    {
      "metadata": {
        "id": "vmFTIFQq6gDJ",
        "colab_type": "text"
      },
      "cell_type": "markdown",
      "source": [
        "## Run Simulation"
      ]
    },
    {
      "metadata": {
        "id": "1To9SNzA4yV9",
        "colab_type": "text"
      },
      "cell_type": "markdown",
      "source": [
        "Clean up any old output files (weights, recorded spikes etc.)."
      ]
    },
    {
      "metadata": {
        "id": "jf0wHx1H0pk8",
        "colab_type": "code",
        "colab": {}
      },
      "cell_type": "code",
      "source": [
        "!rm *.bin\n",
        "!rm *SpikeTimes.txt\n",
        "!rm *SpikeIDs.txt"
      ],
      "execution_count": 0,
      "outputs": []
    },
    {
      "metadata": {
        "id": "stYAc45X41bd",
        "colab_type": "text"
      },
      "cell_type": "markdown",
      "source": [
        "Run the simulation."
      ]
    },
    {
      "metadata": {
        "id": "xk6aV_JdaDzh",
        "colab_type": "code",
        "outputId": "524e6dee-54a4-4342-bc3c-3c706055cbe3",
        "colab": {
          "base_uri": "https://localhost:8080/",
          "height": 2890
        }
      },
      "cell_type": "code",
      "source": [
        "!./LeadholmBinding"
      ],
      "execution_count": 0,
      "outputs": [
        {
          "output_type": "stream",
          "text": [
            "\n",
            "\n",
            ".......\n",
            "Creating network neuron groups...\n",
            ".......\n",
            "\n",
            "New layer ID is -1\n",
            "New layer ID is -2\n",
            "New layer ID is 0\n",
            "\n",
            "\n",
            ".......\n",
            "Building feed-forward connectivity...\n",
            ".......\n",
            "\n",
            "\n",
            "Connectivity data file opened, extracting synapse IDs, weights and delays...\n",
            "\n",
            "Connectivity data file read.\n",
            "\n",
            "Connectivity data file opened, extracting synapse IDs, weights and delays...\n",
            "\n",
            "Connectivity data file read.\n",
            "\n",
            "\n",
            ".......\n",
            "Building lateral connectivity...\n",
            ".......\n",
            "\n",
            "\n",
            "\n",
            ".......\n",
            "All synapses created...\n",
            ".......\n",
            "\n",
            "\n",
            "\n",
            ".......\n",
            "Assigning stimuli to the network...\n",
            ".......\n",
            "\n",
            "\n",
            "\n",
            "\n",
            "\n",
            "*** Stimulus 1***\n",
            "\n",
            "00000\n",
            "00000\n",
            "00000\n",
            "00000\n",
            "00000\n",
            "11111\n",
            "11111\n",
            "11111\n",
            "11111\n",
            "11111\n",
            "\n",
            "\n",
            "\n",
            "\n",
            "*** Stimulus 2***\n",
            "\n",
            "11111\n",
            "11111\n",
            "11111\n",
            "11111\n",
            "11111\n",
            "00000\n",
            "00000\n",
            "00000\n",
            "00000\n",
            "00000\n",
            "\n",
            "-----------\n",
            "---SPIKE---\n",
            "-----------\n",
            "\n",
            "Building Model with:\n",
            "  75 Input Neuron(s)\n",
            "  25 Neuron(s)\n",
            "  4537 Synapse(s)\n",
            "  1 Plasticity Rule(s)\n",
            "  2 Activity Monitor(s)\n",
            "\n",
            "\n",
            "\n",
            ".......\n",
            "Model finalized and ready for simulating...\n",
            ".......\n",
            "\n",
            "Selecting Stimulus: 0\n",
            "Running model for 0.200000 units of time (2001 Timesteps) \n",
            " Number of Spikes Recorded: 69\n",
            " Number of Spikes Recorded: 202\n",
            "Selecting Stimulus: 1\n",
            "Running model for 0.200000 units of time (2001 Timesteps) \n",
            " Number of Spikes Recorded: 155\n",
            " Number of Spikes Recorded: 427\n",
            "Selecting Stimulus: 0\n",
            "Running model for 0.200000 units of time (2001 Timesteps) \n",
            " Number of Spikes Recorded: 217\n",
            " Number of Spikes Recorded: 617\n",
            "Selecting Stimulus: 1\n",
            "Running model for 0.200000 units of time (2001 Timesteps) \n",
            " Number of Spikes Recorded: 311\n",
            " Number of Spikes Recorded: 843\n",
            "Selecting Stimulus: 0\n",
            "Running model for 0.200000 units of time (2001 Timesteps) \n",
            " Number of Spikes Recorded: 391\n",
            " Number of Spikes Recorded: 1059\n",
            "Selecting Stimulus: 1\n",
            "Running model for 0.200000 units of time (2001 Timesteps) \n",
            " Number of Spikes Recorded: 462\n",
            " Number of Spikes Recorded: 1262\n",
            "Selecting Stimulus: 0\n",
            "Running model for 0.200000 units of time (2001 Timesteps) \n",
            " Number of Spikes Recorded: 576\n",
            " Number of Spikes Recorded: 1513\n",
            "Selecting Stimulus: 1\n",
            "Running model for 0.200000 units of time (2001 Timesteps) \n",
            " Number of Spikes Recorded: 653\n",
            " Number of Spikes Recorded: 1721\n",
            "Selecting Stimulus: 0\n",
            "Running model for 0.200000 units of time (2001 Timesteps) \n",
            " Number of Spikes Recorded: 742\n",
            " Number of Spikes Recorded: 1954\n",
            "Selecting Stimulus: 1\n",
            "Running model for 0.200000 units of time (2001 Timesteps) \n",
            " Number of Spikes Recorded: 838\n",
            " Number of Spikes Recorded: 2192\n",
            "Selecting Stimulus: 0\n",
            "Running model for 0.200000 units of time (2001 Timesteps) \n",
            " Number of Spikes Recorded: 65\n",
            " Number of Spikes Recorded: 201\n",
            "Selecting Stimulus: 0\n",
            "Running model for 0.200000 units of time (2001 Timesteps) \n",
            " Number of Spikes Recorded: 153\n",
            " Number of Spikes Recorded: 416\n",
            "Selecting Stimulus: 0\n",
            "Running model for 0.200000 units of time (2001 Timesteps) \n",
            " Number of Spikes Recorded: 223\n",
            " Number of Spikes Recorded: 628\n",
            "Selecting Stimulus: 0\n",
            "Running model for 0.200000 units of time (2001 Timesteps) \n",
            " Number of Spikes Recorded: 313\n",
            " Number of Spikes Recorded: 840\n",
            "Selecting Stimulus: 0\n",
            "Running model for 0.200000 units of time (2001 Timesteps) \n",
            " Number of Spikes Recorded: 423\n",
            " Number of Spikes Recorded: 1095\n",
            "Selecting Stimulus: 1\n",
            "Running model for 0.200000 units of time (2001 Timesteps) \n",
            " Number of Spikes Recorded: 95\n",
            " Number of Spikes Recorded: 232\n",
            "Selecting Stimulus: 1\n",
            "Running model for 0.200000 units of time (2001 Timesteps) \n",
            " Number of Spikes Recorded: 161\n",
            " Number of Spikes Recorded: 438\n",
            "Selecting Stimulus: 1\n",
            "Running model for 0.200000 units of time (2001 Timesteps) \n",
            " Number of Spikes Recorded: 215\n",
            " Number of Spikes Recorded: 637\n",
            "Selecting Stimulus: 1\n",
            "Running model for 0.200000 units of time (2001 Timesteps) \n",
            " Number of Spikes Recorded: 295\n",
            " Number of Spikes Recorded: 842\n",
            "Selecting Stimulus: 1\n",
            "Running model for 0.200000 units of time (2001 Timesteps) \n",
            " Number of Spikes Recorded: 388\n",
            " Number of Spikes Recorded: 1067\n"
          ],
          "name": "stdout"
        }
      ]
    },
    {
      "metadata": {
        "id": "uUe9R8m-dHYC",
        "colab_type": "text"
      },
      "cell_type": "markdown",
      "source": [
        "##Visualize Results"
      ]
    },
    {
      "metadata": {
        "id": "S2VLiEr6bnm-",
        "colab_type": "text"
      },
      "cell_type": "markdown",
      "source": [
        "###Activity during Stimulus 1 presentation"
      ]
    },
    {
      "metadata": {
        "id": "6_MT4Z8s6QuF",
        "colab_type": "code",
        "colab": {}
      },
      "cell_type": "code",
      "source": [
        "stim1_df = pd.DataFrame(\n",
        "  data = {\n",
        "      \"ids\": np.fromfile(\"output_spikes_posttraining_stim1SpikeIDs.bin\", dtype=np.int32),\n",
        "      \"times\": np.fromfile(\"output_spikes_posttraining_stim1SpikeTimes.bin\", dtype=np.float32),\n",
        "  }\n",
        ")\n",
        "\n",
        "#NB Pandas will generate a 'data-frame', where each row in this case has a name (ids or times), and the \n",
        "#columns in those rows contain the values of interest"
      ],
      "execution_count": 0,
      "outputs": []
    },
    {
      "metadata": {
        "id": "uD6e0hnk6Qxj",
        "colab_type": "code",
        "outputId": "df30c4a9-6818-4b03-e002-05d564d0151d",
        "colab": {
          "base_uri": "https://localhost:8080/",
          "height": 558
        }
      },
      "cell_type": "code",
      "source": [
        "plt.figure(figsize=(12,9))\n",
        "mask = stim1_df[\"times\"] <1.0 #Restrict plotted spikes to a particular time period\n",
        "#mask = ((stim1_df[\"ids\"] > 0) & (stim1_df[\"ids\"] <= 1024)) #Restrict plotted spikes to a particular layer\n",
        "plt.scatter(stim1_df[\"times\"][mask], stim1_df[\"ids\"][mask], s=5)"
      ],
      "execution_count": 0,
      "outputs": [
        {
          "output_type": "execute_result",
          "data": {
            "text/plain": [
              "<matplotlib.collections.PathCollection at 0x7f32755fd048>"
            ]
          },
          "metadata": {
            "tags": []
          },
          "execution_count": 414
        },
        {
          "output_type": "display_data",
          "data": {
            "image/png": "[encoded data removed]",
            "text/plain": [
              "<Figure size 864x648 with 1 Axes>"
            ]
          },
          "metadata": {
            "tags": []
          }
        }
      ]
    },
    {
      "metadata": {
        "id": "Rvdv-E2ibxPz",
        "colab_type": "text"
      },
      "cell_type": "markdown",
      "source": [
        "###Activity during Stimulus 2 presentation"
      ]
    },
    {
      "metadata": {
        "id": "oBPIuXmbaei9",
        "colab_type": "code",
        "colab": {}
      },
      "cell_type": "code",
      "source": [
        "stim2_df = pd.DataFrame(\n",
        "  data = {\n",
        "      \"ids\": np.fromfile(\"output_spikes_posttraining_stim2SpikeIDs.bin\", dtype=np.int32),\n",
        "      \"times\": np.fromfile(\"output_spikes_posttraining_stim2SpikeTimes.bin\", dtype=np.float32),\n",
        "  }\n",
        ")"
      ],
      "execution_count": 0,
      "outputs": []
    },
    {
      "metadata": {
        "id": "uwpsuGXocZut",
        "colab_type": "code",
        "outputId": "706f2d5c-6a01-40f9-c164-2ef160d746df",
        "colab": {
          "base_uri": "https://localhost:8080/",
          "height": 558
        }
      },
      "cell_type": "code",
      "source": [
        "plt.figure(figsize=(12,9))\n",
        "mask = stim2_df[\"times\"] <1.0\n",
        "#mask = ((stim2_df[\"ids\"] > 2048) & (stim2_df[\"ids\"] <= 2048+1024))\n",
        "plt.scatter(stim2_df[:][\"times\"][mask], stim2_df[:][\"ids\"][mask], s=5)"
      ],
      "execution_count": 0,
      "outputs": [
        {
          "output_type": "execute_result",
          "data": {
            "text/plain": [
              "<matplotlib.collections.PathCollection at 0x7f327643bac8>"
            ]
          },
          "metadata": {
            "tags": []
          },
          "execution_count": 288
        },
        {
          "output_type": "display_data",
          "data": {
            "image/png": "[encoded data removed]",
            "text/plain": [
              "<Figure size 864x648 with 1 Axes>"
            ]
          },
          "metadata": {
            "tags": []
          }
        }
      ]
    },
    {
      "metadata": {
        "id": "_8xcTSYbdk53",
        "colab_type": "text"
      },
      "cell_type": "markdown",
      "source": [
        "###Activity of Stimulus 1 Poisson input"
      ]
    },
    {
      "metadata": {
        "id": "-k0w_XXMcJrj",
        "colab_type": "code",
        "colab": {}
      },
      "cell_type": "code",
      "source": [
        "# input1_df = pd.DataFrame(\n",
        "#   data = {\n",
        "#       \"ids\": np.fromfile(\"input_Poisson_stim1SpikeIDs.bin\", dtype=np.int32),\n",
        "#       \"times\": np.fromfile(\"input_Poisson_stim1SpikeTimes.bin\", dtype=np.float32),\n",
        "#   }\n",
        "# )"
      ],
      "execution_count": 0,
      "outputs": []
    },
    {
      "metadata": {
        "id": "aolD0Y8xcN63",
        "colab_type": "code",
        "colab": {}
      },
      "cell_type": "code",
      "source": [
        "# plt.figure(figsize=(12,9))\n",
        "# mask = input1_df[\"times\"] <4.0\n",
        "# plt.scatter(input1_df[\"times\"][mask], input1_df[\"ids\"][mask], s=5)"
      ],
      "execution_count": 0,
      "outputs": []
    },
    {
      "metadata": {
        "id": "WbVilbhToWuS",
        "colab_type": "text"
      },
      "cell_type": "markdown",
      "source": [
        "###Activity of Stimulus 2 Poisson input"
      ]
    },
    {
      "metadata": {
        "id": "ReNO5j5doYJH",
        "colab_type": "code",
        "colab": {}
      },
      "cell_type": "code",
      "source": [
        "# input2_df = pd.DataFrame(\n",
        "#   data = {\n",
        "#       \"ids\": np.fromfile(\"input_Poisson_stim2SpikeIDs.bin\", dtype=np.int32),\n",
        "#       \"times\": np.fromfile(\"input_Poisson_stim2SpikeTimes.bin\", dtype=np.float32),\n",
        "#   }\n",
        "# )"
      ],
      "execution_count": 0,
      "outputs": []
    },
    {
      "metadata": {
        "id": "pLp8HW1QoYQe",
        "colab_type": "code",
        "colab": {}
      },
      "cell_type": "code",
      "source": [
        "\n",
        "# plt.figure(figsize=(12,9))\n",
        "# mask = input2_df[\"times\"] <4.0\n",
        "# plt.scatter(input2_df[\"times\"][mask], input2_df[\"ids\"][mask], s=5)"
      ],
      "execution_count": 0,
      "outputs": []
    },
    {
      "metadata": {
        "id": "SXeT4yTE55bt",
        "colab_type": "text"
      },
      "cell_type": "markdown",
      "source": [
        "###Plot Firing Rate Distributions"
      ]
    },
    {
      "metadata": {
        "id": "WjYHIw3VhWLC",
        "colab_type": "code",
        "colab": {}
      },
      "cell_type": "code",
      "source": [
        "numinhneurons = (5*5*2*3)\n",
        "inhfrs_stim1 = np.bincount(stim1_df[\"ids\"].values, minlength=numinhneurons)\n",
        "inhfrs_stim2 = np.bincount(stim2_df[\"ids\"].values, minlength=numinhneurons)"
      ],
      "execution_count": 0,
      "outputs": []
    },
    {
      "metadata": {
        "id": "qFZm-C8FhtJl",
        "colab_type": "code",
        "outputId": "297858a2-3d4c-4de0-c6af-dc772fb4d05b",
        "colab": {
          "base_uri": "https://localhost:8080/",
          "height": 319
        }
      },
      "cell_type": "code",
      "source": [
        "plt.hist(inhfrs_stim1)"
      ],
      "execution_count": 0,
      "outputs": [
        {
          "output_type": "execute_result",
          "data": {
            "text/plain": [
              "(array([75.,  0.,  0.,  0.,  0.,  8., 19., 30., 12.,  6.]),\n",
              " array([ 0. ,  2.3,  4.6,  6.9,  9.2, 11.5, 13.8, 16.1, 18.4, 20.7, 23. ]),\n",
              " <a list of 10 Patch objects>)"
            ]
          },
          "metadata": {
            "tags": []
          },
          "execution_count": 294
        },
        {
          "output_type": "display_data",
          "data": {
            "image/png": "[encoded data removed]",
            "text/plain": [
              "<Figure size 432x288 with 1 Axes>"
            ]
          },
          "metadata": {
            "tags": []
          }
        }
      ]
    },
    {
      "metadata": {
        "id": "9_-4goXN6CzJ",
        "colab_type": "code",
        "outputId": "a477b99f-a8b6-4136-c620-9403ae561f8c",
        "colab": {
          "base_uri": "https://localhost:8080/",
          "height": 319
        }
      },
      "cell_type": "code",
      "source": [
        "plt.hist(inhfrs_stim2)"
      ],
      "execution_count": 0,
      "outputs": [
        {
          "output_type": "execute_result",
          "data": {
            "text/plain": [
              "(array([75.,  0.,  0.,  0.,  4., 38., 18., 10.,  3.,  2.]),\n",
              " array([ 0. ,  2.4,  4.8,  7.2,  9.6, 12. , 14.4, 16.8, 19.2, 21.6, 24. ]),\n",
              " <a list of 10 Patch objects>)"
            ]
          },
          "metadata": {
            "tags": []
          },
          "execution_count": 295
        },
        {
          "output_type": "display_data",
          "data": {
            "image/png": "[encoded data removed]",
            "text/plain": [
              "<Figure size 432x288 with 1 Axes>"
            ]
          },
          "metadata": {
            "tags": []
          }
        }
      ]
    },
    {
      "metadata": {
        "id": "NmlsM7LJ58z1",
        "colab_type": "text"
      },
      "cell_type": "markdown",
      "source": [
        "###Firing Rate Difference For the Two Stimuli"
      ]
    },
    {
      "metadata": {
        "id": "1bh7Qb5vuyTa",
        "colab_type": "code",
        "outputId": "4cf8c31e-3f35-4a47-c8e3-4ae9484970d8",
        "colab": {
          "base_uri": "https://localhost:8080/",
          "height": 502
        }
      },
      "cell_type": "code",
      "source": [
        "plt.figure(figsize=(8,8))\n",
        "plt.plot(inhfrs_stim1, color='b')\n",
        "plt.plot(inhfrs_stim2, color='r')"
      ],
      "execution_count": 0,
      "outputs": [
        {
          "output_type": "execute_result",
          "data": {
            "text/plain": [
              "[<matplotlib.lines.Line2D at 0x7f32763da5f8>]"
            ]
          },
          "metadata": {
            "tags": []
          },
          "execution_count": 296
        },
        {
          "output_type": "display_data",
          "data": {
            "image/png": "[encoded data removed]",
            "text/plain": [
              "<Figure size 576x576 with 1 Axes>"
            ]
          },
          "metadata": {
            "tags": []
          }
        }
      ]
    },
    {
      "metadata": {
        "id": "w7X_sRb4rjPG",
        "colab_type": "text"
      },
      "cell_type": "markdown",
      "source": [
        "###Distribution of Weights"
      ]
    },
    {
      "metadata": {
        "id": "_cxZadnzujge",
        "colab_type": "code",
        "colab": {}
      },
      "cell_type": "code",
      "source": [
        "num_epochs = 5000\n",
        "\n",
        "weights_df = pd.DataFrame(\n",
        "  data = {\n",
        "      \"weights\" : np.fromfile(\"Epoch\" + str(num_epochs-1) + \"Sandbox_NetworkSynapticWeights.bin\", dtype=np.float32),\n",
        "      \"pres\" : np.fromfile(\"Sandbox_NetworkPresynapticIDs.bin\", dtype=np.int32),\n",
        "      \"post\" : np.fromfile(\"Sandbox_NetworkPostsynapticIDs.bin\", dtype=np.int32)\n",
        "  }\n",
        ")"
      ],
      "execution_count": 0,
      "outputs": []
    },
    {
      "metadata": {
        "id": "-B7kwx9mmQbd",
        "colab_type": "code",
        "colab": {}
      },
      "cell_type": "code",
      "source": [
        "input_weight_evolution = []\n",
        "inh_weight_evolution = []\n",
        "\n",
        "inputmask = (weights_df[\"pres\"] < 0) &(weights_df[\"pres\"] >= -100) \n",
        "inhmask = (weights_df[\"pres\"] > 0) &(weights_df[\"post\"] > 0) \n",
        "\n",
        "\n",
        "for e in range(num_epochs):\n",
        "  input_weight_evolution.append(np.fromfile(\"Epoch\" + str(e) + \"Sandbox_NetworkSynapticWeights.bin\", dtype=np.float32)[inputmask])\n",
        "  inh_weight_evolution.append(np.fromfile(\"Epoch\" + str(e) + \"Sandbox_NetworkSynapticWeights.bin\", dtype=np.float32)[inhmask])\n",
        "\n",
        "\n",
        "input_mean_weight_evolution = np.mean(np.asarray(input_weight_evolution), axis=1)\n",
        "inh_mean_weight_evolution = np.mean(np.asarray(inh_weight_evolution), axis=1)"
      ],
      "execution_count": 0,
      "outputs": []
    },
    {
      "metadata": {
        "id": "XW58_j7dn1X9",
        "colab_type": "code",
        "outputId": "4a57dfb1-ec44-4f05-8b22-a25a6a717bec",
        "colab": {
          "base_uri": "https://localhost:8080/",
          "height": 340
        }
      },
      "cell_type": "code",
      "source": [
        "\n",
        "\n",
        "plt.figure(figsize=(10,5))\n",
        "plt.subplot(1,2,1)\n",
        "plt.plot(input_mean_weight_evolution)\n",
        "\n",
        "plt.subplot(1,2,2)\n",
        "plt.plot(inh_mean_weight_evolution, color='r')"
      ],
      "execution_count": 0,
      "outputs": [
        {
          "output_type": "execute_result",
          "data": {
            "text/plain": [
              "[<matplotlib.lines.Line2D at 0x7f32761d0d68>]"
            ]
          },
          "metadata": {
            "tags": []
          },
          "execution_count": 299
        },
        {
          "output_type": "display_data",
          "data": {
            "image/png": "[encoded data removed]",
            "text/plain": [
              "<Figure size 720x360 with 2 Axes>"
            ]
          },
          "metadata": {
            "tags": []
          }
        }
      ]
    },
    {
      "metadata": {
        "id": "LrW1KoxK5a6Y",
        "colab_type": "code",
        "outputId": "ab0cf32c-6787-4d4a-8226-36fb77fd9ab5",
        "colab": {
          "base_uri": "https://localhost:8080/",
          "height": 437
        }
      },
      "cell_type": "code",
      "source": [
        "mask = (weights_df[\"pres\"] < 0) &(weights_df[\"pres\"] >= -100) \n",
        "plt.hist(weights_df[\"weights\"][mask], bins=25)"
      ],
      "execution_count": 0,
      "outputs": [
        {
          "output_type": "execute_result",
          "data": {
            "text/plain": [
              "(array([149., 143., 172., 176., 203., 229., 201., 251., 228., 241., 531.,\n",
              "        730., 716., 640., 612., 610., 640., 693., 525., 297., 239., 224.,\n",
              "        165., 174., 129.]),\n",
              " array([0.01001152, 0.01361103, 0.01721053, 0.02081004, 0.02440954,\n",
              "        0.02800905, 0.03160855, 0.03520805, 0.03880756, 0.04240706,\n",
              "        0.04600657, 0.04960607, 0.05320558, 0.05680508, 0.06040458,\n",
              "        0.06400409, 0.0676036 , 0.0712031 , 0.0748026 , 0.0784021 ,\n",
              "        0.08200161, 0.08560111, 0.08920062, 0.09280012, 0.09639963,\n",
              "        0.09999913], dtype=float32),\n",
              " <a list of 25 Patch objects>)"
            ]
          },
          "metadata": {
            "tags": []
          },
          "execution_count": 300
        },
        {
          "output_type": "display_data",
          "data": {
            "image/png": "[encoded data removed]",
            "text/plain": [
              "<Figure size 432x288 with 1 Axes>"
            ]
          },
          "metadata": {
            "tags": []
          }
        }
      ]
    },
    {
      "metadata": {
        "id": "KP2OLSLqkZEw",
        "colab_type": "code",
        "outputId": "a06af3a9-0a14-4f6c-898e-7d65f67bddaa",
        "colab": {
          "base_uri": "https://localhost:8080/",
          "height": 454
        }
      },
      "cell_type": "code",
      "source": [
        "mask = (weights_df[\"pres\"] > 0) &(weights_df[\"post\"] > 0) \n",
        "plt.hist(weights_df[\"weights\"][mask], bins=25)"
      ],
      "execution_count": 0,
      "outputs": [
        {
          "output_type": "execute_result",
          "data": {
            "text/plain": [
              "(array([4330., 3514., 2594., 1815.,  830.,  494.,  306.,  252.,  256.,\n",
              "         207.,  223.,  213.,  195.,  191.,  170.,  149.,  157.,  181.,\n",
              "         166.,  138.,  166.,  177.,  175.,  168.,  174.]),\n",
              " array([4.33581590e-04, 2.44152527e-02, 4.83969226e-02, 7.23785907e-02,\n",
              "        9.63602662e-02, 1.20341934e-01, 1.44323602e-01, 1.68305278e-01,\n",
              "        1.92286953e-01, 2.16268614e-01, 2.40250289e-01, 2.64231950e-01,\n",
              "        2.88213640e-01, 3.12195301e-01, 3.36176962e-01, 3.60158652e-01,\n",
              "        3.84140313e-01, 4.08121973e-01, 4.32103664e-01, 4.56085324e-01,\n",
              "        4.80066985e-01, 5.04048645e-01, 5.28030336e-01, 5.52012026e-01,\n",
              "        5.75993657e-01, 5.99975348e-01], dtype=float32),\n",
              " <a list of 25 Patch objects>)"
            ]
          },
          "metadata": {
            "tags": []
          },
          "execution_count": 301
        },
        {
          "output_type": "display_data",
          "data": {
            "image/png": "[encoded data removed]",
            "text/plain": [
              "<Figure size 432x288 with 1 Axes>"
            ]
          },
          "metadata": {
            "tags": []
          }
        }
      ]
    },
    {
      "metadata": {
        "id": "rSvyySXfbV8-",
        "colab_type": "code",
        "colab": {}
      },
      "cell_type": "code",
      "source": [
        "numinhneurons = 5*5*2\n",
        "neuroninputvector = np.zeros((numinhneurons, 5*5*2))\n",
        "\n",
        "\n",
        "for neuronid in range(numinhneurons):\n",
        "  mask = (weights_df[\"post\"].values == neuronid) & (weights_df[\"pres\"].values < 0) & (weights_df[\"pres\"].values >= -5*5*2)\n",
        "  neuroninputvector[neuronid, weights_df[\"pres\"].values[mask]*-1 -1] = weights_df[\"weights\"].values[mask]"
      ],
      "execution_count": 0,
      "outputs": []
    },
    {
      "metadata": {
        "id": "LFdQju9TjIkm",
        "colab_type": "code",
        "outputId": "83f00e2b-84fa-45e1-f717-7ae9e7e524b8",
        "colab": {
          "base_uri": "https://localhost:8080/",
          "height": 96
        }
      },
      "cell_type": "code",
      "source": [
        "plt.figure(figsize=(25,100))\n",
        "for neuronid in range(numinhneurons):\n",
        "  plt.subplot(5*5*2, 5*5*2, 1+neuronid)\n",
        "  plt.imshow(neuroninputvector[neuronid].reshape(5*2,5), interpolation=\"nearest\", vmin=np.min(neuroninputvector), vmax=np.max(neuroninputvector))\n",
        "  plt.axis('off')"
      ],
      "execution_count": 0,
      "outputs": [
        {
          "output_type": "display_data",
          "data": {
            "image/png": "[encoded data removed]",
            "text/plain": [
              "<Figure size 1800x7200 with 50 Axes>"
            ]
          },
          "metadata": {
            "tags": []
          }
        }
      ]
    },
    {
      "metadata": {
        "id": "J2eWFp4Mc7_o",
        "colab_type": "text"
      },
      "cell_type": "markdown",
      "source": [
        "## Download Data"
      ]
    },
    {
      "metadata": {
        "id": "fEot345ZZOei",
        "colab_type": "text"
      },
      "cell_type": "markdown",
      "source": [
        "###Download Method for Smaller Files"
      ]
    },
    {
      "metadata": {
        "id": "-MrbF4v8Py3I",
        "colab_type": "code",
        "colab": {}
      },
      "cell_type": "code",
      "source": [
        "from google.colab import files\n",
        "files.download('output_spikes_posttraining_stim1SpikeIDs.txt') "
      ],
      "execution_count": 0,
      "outputs": []
    },
    {
      "metadata": {
        "id": "q513p_oIPur6",
        "colab_type": "code",
        "colab": {}
      },
      "cell_type": "code",
      "source": [
        "from google.colab import files\n",
        "files.download('output_spikes_posttraining_stim1SpikeTimes.txt') "
      ],
      "execution_count": 0,
      "outputs": []
    },
    {
      "metadata": {
        "id": "6AHQmsPkPwIl",
        "colab_type": "code",
        "colab": {}
      },
      "cell_type": "code",
      "source": [
        "from google.colab import files\n",
        "files.download('output_spikes_posttraining_stim2SpikeIDs.txt') "
      ],
      "execution_count": 0,
      "outputs": []
    },
    {
      "metadata": {
        "id": "w4o80prlPxZY",
        "colab_type": "code",
        "colab": {}
      },
      "cell_type": "code",
      "source": [
        "from google.colab import files\n",
        "files.download('output_spikes_posttraining_stim2SpikeTimes.txt') "
      ],
      "execution_count": 0,
      "outputs": []
    },
    {
      "metadata": {
        "id": "rcnmG6AMZKQ3",
        "colab_type": "text"
      },
      "cell_type": "markdown",
      "source": [
        "###Download Method for Large Files"
      ]
    },
    {
      "metadata": {
        "id": "uGpJFmQKQcy2",
        "colab_type": "code",
        "outputId": "4cbb760b-4626-4daa-bf9d-c02fe2c41cf7",
        "colab": {
          "base_uri": "https://localhost:8080/",
          "height": 141
        }
      },
      "cell_type": "code",
      "source": [
        "from google.colab import drive\n",
        "drive.mount('/content/gdrive')"
      ],
      "execution_count": 0,
      "outputs": [
        {
          "output_type": "stream",
          "text": [
            "Go to this URL in a browser: https://accounts.google.com/o/oauth2/auth?client_id=947318989803-6bn6qk8qdgf4n4g3pfee6491hc0brc4i.apps.googleusercontent.com&redirect_uri=urn%3Aietf%3Awg%3Aoauth%3A2.0%3Aoob&scope=email%20https%3A%2F%2Fwww.googleapis.com%2Fauth%2Fdocs.test%20https%3A%2F%2Fwww.googleapis.com%2Fauth%2Fdrive%20https%3A%2F%2Fwww.googleapis.com%2Fauth%2Fdrive.photos.readonly%20https%3A%2F%2Fwww.googleapis.com%2Fauth%2Fpeopleapi.readonly&response_type=code\n",
            "\n",
            "Enter your authorization code:\n",
            "··········\n",
            "Mounted at /content/gdrive\n",
            "Drive already mounted at /content/gdrive; to attempt to forcibly remount, call drive.mount(\"/content/gdrive\", force_remount=True).\n"
          ],
          "name": "stdout"
        }
      ]
    },
    {
      "metadata": {
        "id": "hEiaSVvvVfoj",
        "colab_type": "code",
        "colab": {}
      },
      "cell_type": "code",
      "source": [
        "cp *.txt ../../../gdrive/My\\ Drive/"
      ],
      "execution_count": 0,
      "outputs": []
    },
    {
      "metadata": {
        "id": "qMkYV02v9764",
        "colab_type": "code",
        "outputId": "e695ce26-ad78-4380-ff35-72fa7a533bec",
        "colab": {
          "base_uri": "https://localhost:8080/",
          "height": 432
        }
      },
      "cell_type": "code",
      "source": [
        "ls"
      ],
      "execution_count": 0,
      "outputs": [
        {
          "output_type": "stream",
          "text": [
            "\u001b[0m\u001b[01;32mBrunel10K\u001b[0m*\n",
            "\u001b[01;34mCMakeFiles\u001b[0m/\n",
            "cmake_install.cmake\n",
            "input_Poisson_stim1SpikeIDs.bin\n",
            "input_Poisson_stim1SpikeTimes.bin\n",
            "input_Poisson_stim2SpikeIDs.bin\n",
            "input_Poisson_stim2SpikeTimes.bin\n",
            "Makefile\n",
            "output_spikes_posttraining_stim1SpikeIDs.bin\n",
            "output_spikes_posttraining_stim1SpikeIDs.txt\n",
            "output_spikes_posttraining_stim1SpikeTimes.bin\n",
            "output_spikes_posttraining_stim1SpikeTimes.txt\n",
            "output_spikes_posttraining_stim2SpikeIDs.bin\n",
            "output_spikes_posttraining_stim2SpikeIDs.txt\n",
            "output_spikes_posttraining_stim2SpikeTimes.bin\n",
            "output_spikes_posttraining_stim2SpikeTimes.txt\n",
            "\u001b[01;32mSandbox\u001b[0m*\n",
            "Sandbox_NetworkPostsynapticIDs.bin\n",
            "Sandbox_NetworkPresynapticIDs.bin\n",
            "Sandbox_NetworkSynapticDelays.bin\n",
            "Sandbox_NetworkSynapticWeights.bin\n",
            "\u001b[01;32mSimpleExample\u001b[0m*\n",
            "stimuli_binary_file.gbo\n",
            "\u001b[01;32mVogelsAbbottNet\u001b[0m*\n"
          ],
          "name": "stdout"
        }
      ]
    },
    {
      "metadata": {
        "id": "zIv_Q7UhUuT2",
        "colab_type": "code",
        "colab": {}
      },
      "cell_type": "code",
      "source": [
        ""
      ],
      "execution_count": 0,
      "outputs": []
    }
  ]
}